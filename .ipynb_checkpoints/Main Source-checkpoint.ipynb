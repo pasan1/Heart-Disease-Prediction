{
 "cells": [
  {
   "cell_type": "code",
   "execution_count": 1,
   "id": "e80f4e65",
   "metadata": {},
   "outputs": [],
   "source": [
    "import pandas as pd\n",
    "import numpy as np"
   ]
  },
  {
   "cell_type": "code",
   "execution_count": 2,
   "id": "1c9c717b",
   "metadata": {},
   "outputs": [],
   "source": [
    "cols=['Age' , 'Sex' , 'ChestPain' , 'RestingBloodPressure' , 'Cholesterol' , 'FastingBloodSugar' , 'RestEcg' , 'MaxHeartRateAch' , 'ExcersiseInducedAngina' , 'StDepression' , 'StSlope' , 'NumMajorVessels' , 'Thalassemia' , 'Target']"
   ]
  },
  {
   "cell_type": "code",
   "execution_count": 3,
   "id": "e831a3ac",
   "metadata": {},
   "outputs": [
    {
     "ename": "FileNotFoundError",
     "evalue": "[Errno 2] No such file or directory: 'D:\\\\ICBT\\\\Assignments\\\\Computational Intelligence\\\\Dataset\\\\heart.csv'",
     "output_type": "error",
     "traceback": [
      "\u001b[1;31m---------------------------------------------------------------------------\u001b[0m",
      "\u001b[1;31mFileNotFoundError\u001b[0m                         Traceback (most recent call last)",
      "Input \u001b[1;32mIn [3]\u001b[0m, in \u001b[0;36m<cell line: 2>\u001b[1;34m()\u001b[0m\n\u001b[0;32m      1\u001b[0m \u001b[38;5;66;03m#load the dataset\u001b[39;00m\n\u001b[1;32m----> 2\u001b[0m df \u001b[38;5;241m=\u001b[39m \u001b[43mpd\u001b[49m\u001b[38;5;241;43m.\u001b[39;49m\u001b[43mread_csv\u001b[49m\u001b[43m(\u001b[49m\u001b[38;5;124;43m'\u001b[39;49m\u001b[38;5;124;43mD:\u001b[39;49m\u001b[38;5;124;43m\\\u001b[39;49m\u001b[38;5;124;43mICBT\u001b[39;49m\u001b[38;5;124;43m\\\u001b[39;49m\u001b[38;5;124;43mAssignments\u001b[39;49m\u001b[38;5;124;43m\\\u001b[39;49m\u001b[38;5;124;43mComputational Intelligence\u001b[39;49m\u001b[38;5;124;43m\\\u001b[39;49m\u001b[38;5;124;43mDataset\u001b[39;49m\u001b[38;5;124;43m\\\u001b[39;49m\u001b[38;5;124;43mheart.csv\u001b[39;49m\u001b[38;5;124;43m'\u001b[39;49m\u001b[43m,\u001b[49m\u001b[43m \u001b[49m\u001b[43mskiprows\u001b[49m\u001b[38;5;241;43m=\u001b[39;49m\u001b[43m[\u001b[49m\u001b[38;5;241;43m0\u001b[39;49m\u001b[43m]\u001b[49m\u001b[43m,\u001b[49m\u001b[43m \u001b[49m\u001b[43mnames\u001b[49m\u001b[38;5;241;43m=\u001b[39;49m\u001b[43mcols\u001b[49m\u001b[43m)\u001b[49m\n",
      "File \u001b[1;32mE:\\Users\\pasan\\anaconda3\\lib\\site-packages\\pandas\\util\\_decorators.py:311\u001b[0m, in \u001b[0;36mdeprecate_nonkeyword_arguments.<locals>.decorate.<locals>.wrapper\u001b[1;34m(*args, **kwargs)\u001b[0m\n\u001b[0;32m    305\u001b[0m \u001b[38;5;28;01mif\u001b[39;00m \u001b[38;5;28mlen\u001b[39m(args) \u001b[38;5;241m>\u001b[39m num_allow_args:\n\u001b[0;32m    306\u001b[0m     warnings\u001b[38;5;241m.\u001b[39mwarn(\n\u001b[0;32m    307\u001b[0m         msg\u001b[38;5;241m.\u001b[39mformat(arguments\u001b[38;5;241m=\u001b[39marguments),\n\u001b[0;32m    308\u001b[0m         \u001b[38;5;167;01mFutureWarning\u001b[39;00m,\n\u001b[0;32m    309\u001b[0m         stacklevel\u001b[38;5;241m=\u001b[39mstacklevel,\n\u001b[0;32m    310\u001b[0m     )\n\u001b[1;32m--> 311\u001b[0m \u001b[38;5;28;01mreturn\u001b[39;00m func(\u001b[38;5;241m*\u001b[39margs, \u001b[38;5;241m*\u001b[39m\u001b[38;5;241m*\u001b[39mkwargs)\n",
      "File \u001b[1;32mE:\\Users\\pasan\\anaconda3\\lib\\site-packages\\pandas\\io\\parsers\\readers.py:680\u001b[0m, in \u001b[0;36mread_csv\u001b[1;34m(filepath_or_buffer, sep, delimiter, header, names, index_col, usecols, squeeze, prefix, mangle_dupe_cols, dtype, engine, converters, true_values, false_values, skipinitialspace, skiprows, skipfooter, nrows, na_values, keep_default_na, na_filter, verbose, skip_blank_lines, parse_dates, infer_datetime_format, keep_date_col, date_parser, dayfirst, cache_dates, iterator, chunksize, compression, thousands, decimal, lineterminator, quotechar, quoting, doublequote, escapechar, comment, encoding, encoding_errors, dialect, error_bad_lines, warn_bad_lines, on_bad_lines, delim_whitespace, low_memory, memory_map, float_precision, storage_options)\u001b[0m\n\u001b[0;32m    665\u001b[0m kwds_defaults \u001b[38;5;241m=\u001b[39m _refine_defaults_read(\n\u001b[0;32m    666\u001b[0m     dialect,\n\u001b[0;32m    667\u001b[0m     delimiter,\n\u001b[1;32m   (...)\u001b[0m\n\u001b[0;32m    676\u001b[0m     defaults\u001b[38;5;241m=\u001b[39m{\u001b[38;5;124m\"\u001b[39m\u001b[38;5;124mdelimiter\u001b[39m\u001b[38;5;124m\"\u001b[39m: \u001b[38;5;124m\"\u001b[39m\u001b[38;5;124m,\u001b[39m\u001b[38;5;124m\"\u001b[39m},\n\u001b[0;32m    677\u001b[0m )\n\u001b[0;32m    678\u001b[0m kwds\u001b[38;5;241m.\u001b[39mupdate(kwds_defaults)\n\u001b[1;32m--> 680\u001b[0m \u001b[38;5;28;01mreturn\u001b[39;00m \u001b[43m_read\u001b[49m\u001b[43m(\u001b[49m\u001b[43mfilepath_or_buffer\u001b[49m\u001b[43m,\u001b[49m\u001b[43m \u001b[49m\u001b[43mkwds\u001b[49m\u001b[43m)\u001b[49m\n",
      "File \u001b[1;32mE:\\Users\\pasan\\anaconda3\\lib\\site-packages\\pandas\\io\\parsers\\readers.py:575\u001b[0m, in \u001b[0;36m_read\u001b[1;34m(filepath_or_buffer, kwds)\u001b[0m\n\u001b[0;32m    572\u001b[0m _validate_names(kwds\u001b[38;5;241m.\u001b[39mget(\u001b[38;5;124m\"\u001b[39m\u001b[38;5;124mnames\u001b[39m\u001b[38;5;124m\"\u001b[39m, \u001b[38;5;28;01mNone\u001b[39;00m))\n\u001b[0;32m    574\u001b[0m \u001b[38;5;66;03m# Create the parser.\u001b[39;00m\n\u001b[1;32m--> 575\u001b[0m parser \u001b[38;5;241m=\u001b[39m TextFileReader(filepath_or_buffer, \u001b[38;5;241m*\u001b[39m\u001b[38;5;241m*\u001b[39mkwds)\n\u001b[0;32m    577\u001b[0m \u001b[38;5;28;01mif\u001b[39;00m chunksize \u001b[38;5;129;01mor\u001b[39;00m iterator:\n\u001b[0;32m    578\u001b[0m     \u001b[38;5;28;01mreturn\u001b[39;00m parser\n",
      "File \u001b[1;32mE:\\Users\\pasan\\anaconda3\\lib\\site-packages\\pandas\\io\\parsers\\readers.py:933\u001b[0m, in \u001b[0;36mTextFileReader.__init__\u001b[1;34m(self, f, engine, **kwds)\u001b[0m\n\u001b[0;32m    930\u001b[0m     \u001b[38;5;28mself\u001b[39m\u001b[38;5;241m.\u001b[39moptions[\u001b[38;5;124m\"\u001b[39m\u001b[38;5;124mhas_index_names\u001b[39m\u001b[38;5;124m\"\u001b[39m] \u001b[38;5;241m=\u001b[39m kwds[\u001b[38;5;124m\"\u001b[39m\u001b[38;5;124mhas_index_names\u001b[39m\u001b[38;5;124m\"\u001b[39m]\n\u001b[0;32m    932\u001b[0m \u001b[38;5;28mself\u001b[39m\u001b[38;5;241m.\u001b[39mhandles: IOHandles \u001b[38;5;241m|\u001b[39m \u001b[38;5;28;01mNone\u001b[39;00m \u001b[38;5;241m=\u001b[39m \u001b[38;5;28;01mNone\u001b[39;00m\n\u001b[1;32m--> 933\u001b[0m \u001b[38;5;28mself\u001b[39m\u001b[38;5;241m.\u001b[39m_engine \u001b[38;5;241m=\u001b[39m \u001b[38;5;28;43mself\u001b[39;49m\u001b[38;5;241;43m.\u001b[39;49m\u001b[43m_make_engine\u001b[49m\u001b[43m(\u001b[49m\u001b[43mf\u001b[49m\u001b[43m,\u001b[49m\u001b[43m \u001b[49m\u001b[38;5;28;43mself\u001b[39;49m\u001b[38;5;241;43m.\u001b[39;49m\u001b[43mengine\u001b[49m\u001b[43m)\u001b[49m\n",
      "File \u001b[1;32mE:\\Users\\pasan\\anaconda3\\lib\\site-packages\\pandas\\io\\parsers\\readers.py:1217\u001b[0m, in \u001b[0;36mTextFileReader._make_engine\u001b[1;34m(self, f, engine)\u001b[0m\n\u001b[0;32m   1213\u001b[0m     mode \u001b[38;5;241m=\u001b[39m \u001b[38;5;124m\"\u001b[39m\u001b[38;5;124mrb\u001b[39m\u001b[38;5;124m\"\u001b[39m\n\u001b[0;32m   1214\u001b[0m \u001b[38;5;66;03m# error: No overload variant of \"get_handle\" matches argument types\u001b[39;00m\n\u001b[0;32m   1215\u001b[0m \u001b[38;5;66;03m# \"Union[str, PathLike[str], ReadCsvBuffer[bytes], ReadCsvBuffer[str]]\"\u001b[39;00m\n\u001b[0;32m   1216\u001b[0m \u001b[38;5;66;03m# , \"str\", \"bool\", \"Any\", \"Any\", \"Any\", \"Any\", \"Any\"\u001b[39;00m\n\u001b[1;32m-> 1217\u001b[0m \u001b[38;5;28mself\u001b[39m\u001b[38;5;241m.\u001b[39mhandles \u001b[38;5;241m=\u001b[39m \u001b[43mget_handle\u001b[49m\u001b[43m(\u001b[49m\u001b[43m  \u001b[49m\u001b[38;5;66;43;03m# type: ignore[call-overload]\u001b[39;49;00m\n\u001b[0;32m   1218\u001b[0m \u001b[43m    \u001b[49m\u001b[43mf\u001b[49m\u001b[43m,\u001b[49m\n\u001b[0;32m   1219\u001b[0m \u001b[43m    \u001b[49m\u001b[43mmode\u001b[49m\u001b[43m,\u001b[49m\n\u001b[0;32m   1220\u001b[0m \u001b[43m    \u001b[49m\u001b[43mencoding\u001b[49m\u001b[38;5;241;43m=\u001b[39;49m\u001b[38;5;28;43mself\u001b[39;49m\u001b[38;5;241;43m.\u001b[39;49m\u001b[43moptions\u001b[49m\u001b[38;5;241;43m.\u001b[39;49m\u001b[43mget\u001b[49m\u001b[43m(\u001b[49m\u001b[38;5;124;43m\"\u001b[39;49m\u001b[38;5;124;43mencoding\u001b[39;49m\u001b[38;5;124;43m\"\u001b[39;49m\u001b[43m,\u001b[49m\u001b[43m \u001b[49m\u001b[38;5;28;43;01mNone\u001b[39;49;00m\u001b[43m)\u001b[49m\u001b[43m,\u001b[49m\n\u001b[0;32m   1221\u001b[0m \u001b[43m    \u001b[49m\u001b[43mcompression\u001b[49m\u001b[38;5;241;43m=\u001b[39;49m\u001b[38;5;28;43mself\u001b[39;49m\u001b[38;5;241;43m.\u001b[39;49m\u001b[43moptions\u001b[49m\u001b[38;5;241;43m.\u001b[39;49m\u001b[43mget\u001b[49m\u001b[43m(\u001b[49m\u001b[38;5;124;43m\"\u001b[39;49m\u001b[38;5;124;43mcompression\u001b[39;49m\u001b[38;5;124;43m\"\u001b[39;49m\u001b[43m,\u001b[49m\u001b[43m \u001b[49m\u001b[38;5;28;43;01mNone\u001b[39;49;00m\u001b[43m)\u001b[49m\u001b[43m,\u001b[49m\n\u001b[0;32m   1222\u001b[0m \u001b[43m    \u001b[49m\u001b[43mmemory_map\u001b[49m\u001b[38;5;241;43m=\u001b[39;49m\u001b[38;5;28;43mself\u001b[39;49m\u001b[38;5;241;43m.\u001b[39;49m\u001b[43moptions\u001b[49m\u001b[38;5;241;43m.\u001b[39;49m\u001b[43mget\u001b[49m\u001b[43m(\u001b[49m\u001b[38;5;124;43m\"\u001b[39;49m\u001b[38;5;124;43mmemory_map\u001b[39;49m\u001b[38;5;124;43m\"\u001b[39;49m\u001b[43m,\u001b[49m\u001b[43m \u001b[49m\u001b[38;5;28;43;01mFalse\u001b[39;49;00m\u001b[43m)\u001b[49m\u001b[43m,\u001b[49m\n\u001b[0;32m   1223\u001b[0m \u001b[43m    \u001b[49m\u001b[43mis_text\u001b[49m\u001b[38;5;241;43m=\u001b[39;49m\u001b[43mis_text\u001b[49m\u001b[43m,\u001b[49m\n\u001b[0;32m   1224\u001b[0m \u001b[43m    \u001b[49m\u001b[43merrors\u001b[49m\u001b[38;5;241;43m=\u001b[39;49m\u001b[38;5;28;43mself\u001b[39;49m\u001b[38;5;241;43m.\u001b[39;49m\u001b[43moptions\u001b[49m\u001b[38;5;241;43m.\u001b[39;49m\u001b[43mget\u001b[49m\u001b[43m(\u001b[49m\u001b[38;5;124;43m\"\u001b[39;49m\u001b[38;5;124;43mencoding_errors\u001b[39;49m\u001b[38;5;124;43m\"\u001b[39;49m\u001b[43m,\u001b[49m\u001b[43m \u001b[49m\u001b[38;5;124;43m\"\u001b[39;49m\u001b[38;5;124;43mstrict\u001b[39;49m\u001b[38;5;124;43m\"\u001b[39;49m\u001b[43m)\u001b[49m\u001b[43m,\u001b[49m\n\u001b[0;32m   1225\u001b[0m \u001b[43m    \u001b[49m\u001b[43mstorage_options\u001b[49m\u001b[38;5;241;43m=\u001b[39;49m\u001b[38;5;28;43mself\u001b[39;49m\u001b[38;5;241;43m.\u001b[39;49m\u001b[43moptions\u001b[49m\u001b[38;5;241;43m.\u001b[39;49m\u001b[43mget\u001b[49m\u001b[43m(\u001b[49m\u001b[38;5;124;43m\"\u001b[39;49m\u001b[38;5;124;43mstorage_options\u001b[39;49m\u001b[38;5;124;43m\"\u001b[39;49m\u001b[43m,\u001b[49m\u001b[43m \u001b[49m\u001b[38;5;28;43;01mNone\u001b[39;49;00m\u001b[43m)\u001b[49m\u001b[43m,\u001b[49m\n\u001b[0;32m   1226\u001b[0m \u001b[43m\u001b[49m\u001b[43m)\u001b[49m\n\u001b[0;32m   1227\u001b[0m \u001b[38;5;28;01massert\u001b[39;00m \u001b[38;5;28mself\u001b[39m\u001b[38;5;241m.\u001b[39mhandles \u001b[38;5;129;01mis\u001b[39;00m \u001b[38;5;129;01mnot\u001b[39;00m \u001b[38;5;28;01mNone\u001b[39;00m\n\u001b[0;32m   1228\u001b[0m f \u001b[38;5;241m=\u001b[39m \u001b[38;5;28mself\u001b[39m\u001b[38;5;241m.\u001b[39mhandles\u001b[38;5;241m.\u001b[39mhandle\n",
      "File \u001b[1;32mE:\\Users\\pasan\\anaconda3\\lib\\site-packages\\pandas\\io\\common.py:789\u001b[0m, in \u001b[0;36mget_handle\u001b[1;34m(path_or_buf, mode, encoding, compression, memory_map, is_text, errors, storage_options)\u001b[0m\n\u001b[0;32m    784\u001b[0m \u001b[38;5;28;01melif\u001b[39;00m \u001b[38;5;28misinstance\u001b[39m(handle, \u001b[38;5;28mstr\u001b[39m):\n\u001b[0;32m    785\u001b[0m     \u001b[38;5;66;03m# Check whether the filename is to be opened in binary mode.\u001b[39;00m\n\u001b[0;32m    786\u001b[0m     \u001b[38;5;66;03m# Binary mode does not support 'encoding' and 'newline'.\u001b[39;00m\n\u001b[0;32m    787\u001b[0m     \u001b[38;5;28;01mif\u001b[39;00m ioargs\u001b[38;5;241m.\u001b[39mencoding \u001b[38;5;129;01mand\u001b[39;00m \u001b[38;5;124m\"\u001b[39m\u001b[38;5;124mb\u001b[39m\u001b[38;5;124m\"\u001b[39m \u001b[38;5;129;01mnot\u001b[39;00m \u001b[38;5;129;01min\u001b[39;00m ioargs\u001b[38;5;241m.\u001b[39mmode:\n\u001b[0;32m    788\u001b[0m         \u001b[38;5;66;03m# Encoding\u001b[39;00m\n\u001b[1;32m--> 789\u001b[0m         handle \u001b[38;5;241m=\u001b[39m \u001b[38;5;28;43mopen\u001b[39;49m\u001b[43m(\u001b[49m\n\u001b[0;32m    790\u001b[0m \u001b[43m            \u001b[49m\u001b[43mhandle\u001b[49m\u001b[43m,\u001b[49m\n\u001b[0;32m    791\u001b[0m \u001b[43m            \u001b[49m\u001b[43mioargs\u001b[49m\u001b[38;5;241;43m.\u001b[39;49m\u001b[43mmode\u001b[49m\u001b[43m,\u001b[49m\n\u001b[0;32m    792\u001b[0m \u001b[43m            \u001b[49m\u001b[43mencoding\u001b[49m\u001b[38;5;241;43m=\u001b[39;49m\u001b[43mioargs\u001b[49m\u001b[38;5;241;43m.\u001b[39;49m\u001b[43mencoding\u001b[49m\u001b[43m,\u001b[49m\n\u001b[0;32m    793\u001b[0m \u001b[43m            \u001b[49m\u001b[43merrors\u001b[49m\u001b[38;5;241;43m=\u001b[39;49m\u001b[43merrors\u001b[49m\u001b[43m,\u001b[49m\n\u001b[0;32m    794\u001b[0m \u001b[43m            \u001b[49m\u001b[43mnewline\u001b[49m\u001b[38;5;241;43m=\u001b[39;49m\u001b[38;5;124;43m\"\u001b[39;49m\u001b[38;5;124;43m\"\u001b[39;49m\u001b[43m,\u001b[49m\n\u001b[0;32m    795\u001b[0m \u001b[43m        \u001b[49m\u001b[43m)\u001b[49m\n\u001b[0;32m    796\u001b[0m     \u001b[38;5;28;01melse\u001b[39;00m:\n\u001b[0;32m    797\u001b[0m         \u001b[38;5;66;03m# Binary mode\u001b[39;00m\n\u001b[0;32m    798\u001b[0m         handle \u001b[38;5;241m=\u001b[39m \u001b[38;5;28mopen\u001b[39m(handle, ioargs\u001b[38;5;241m.\u001b[39mmode)\n",
      "\u001b[1;31mFileNotFoundError\u001b[0m: [Errno 2] No such file or directory: 'D:\\\\ICBT\\\\Assignments\\\\Computational Intelligence\\\\Dataset\\\\heart.csv'"
     ]
    }
   ],
   "source": [
    "#load the dataset\n",
    "df = pd.read_csv('D:\\ICBT\\Assignments\\Computational Intelligence\\Dataset\\heart.csv', skiprows=[0], names=cols)"
   ]
  },
  {
   "cell_type": "code",
   "execution_count": null,
   "id": "af3d866d",
   "metadata": {},
   "outputs": [],
   "source": [
    "#check the data headings\n",
    "df.head()"
   ]
  },
  {
   "cell_type": "code",
   "execution_count": null,
   "id": "cb92f3aa",
   "metadata": {},
   "outputs": [],
   "source": [
    "df.dtypes"
   ]
  },
  {
   "cell_type": "code",
   "execution_count": null,
   "id": "f0e74310",
   "metadata": {},
   "outputs": [],
   "source": [
    "#check the columns\n",
    "df.columns"
   ]
  },
  {
   "cell_type": "code",
   "execution_count": null,
   "id": "1effb405",
   "metadata": {},
   "outputs": [],
   "source": [
    "#Feature and label fitting\n",
    "features = df.drop('Target', axis=1)\n",
    "label = df['Target']"
   ]
  },
  {
   "cell_type": "code",
   "execution_count": null,
   "id": "293703cb",
   "metadata": {},
   "outputs": [],
   "source": [
    "#data splitting\n",
    "from sklearn.model_selection import train_test_split\n",
    "X_train, X_test, y_train, y_test = train_test_split(features, label, test_size=0.2, random_state=42)"
   ]
  },
  {
   "cell_type": "code",
   "execution_count": null,
   "id": "e300fbce",
   "metadata": {},
   "outputs": [],
   "source": [
    "#Check the raws and columns\n",
    "y_train.shape"
   ]
  },
  {
   "cell_type": "code",
   "execution_count": null,
   "id": "a24662b5",
   "metadata": {},
   "outputs": [],
   "source": [
    "X_train.shape"
   ]
  },
  {
   "cell_type": "code",
   "execution_count": null,
   "id": "7c066f9f",
   "metadata": {},
   "outputs": [],
   "source": [
    "#check the first 5 raws \n",
    "X_train[0:5]"
   ]
  },
  {
   "cell_type": "code",
   "execution_count": null,
   "id": "f59a2948",
   "metadata": {},
   "outputs": [],
   "source": [
    "label"
   ]
  },
  {
   "cell_type": "code",
   "execution_count": null,
   "id": "039e9129",
   "metadata": {},
   "outputs": [],
   "source": [
    "features"
   ]
  },
  {
   "cell_type": "code",
   "execution_count": null,
   "id": "37d60a8d",
   "metadata": {},
   "outputs": [],
   "source": [
    "#Check the null values\n",
    "df.info()"
   ]
  },
  {
   "cell_type": "code",
   "execution_count": null,
   "id": "1ced973c",
   "metadata": {},
   "outputs": [],
   "source": [
    "print(df.head())"
   ]
  },
  {
   "cell_type": "code",
   "execution_count": null,
   "id": "5f8d13b1",
   "metadata": {},
   "outputs": [],
   "source": [
    "#Creating evalution methods\n",
    "from sklearn.metrics import accuracy_score\n",
    "from sklearn.metrics import precision_score\n",
    "from sklearn.metrics import recall_score\n",
    "from sklearn.metrics import f1_score\n",
    "from sklearn.metrics import cohen_kappa_score\n",
    "from sklearn.metrics import roc_auc_score\n",
    "from sklearn.metrics import confusion_matrix\n",
    "from sklearn.model_selection import cross_val_score\n",
    "from sklearn.metrics import classification_report\n",
    "\n",
    "def evaluate(model, X_test, y_test):\n",
    "  y_pred = model.predict(np.array(X_test))\n",
    "  pred = [round(value) for value in y_pred]\n",
    "\n",
    "  accuracy = accuracy_score(y_test, pred)\n",
    "  precision = precision_score(y_test, pred)\n",
    "  recall = recall_score(y_test, pred)\n",
    "  f1 = f1_score(y_test, pred)\n",
    "  tn, fp, fn, tp = confusion_matrix(y_test, pred).ravel()\n",
    "\n",
    "  print(\"TN: {}   FP: {}\\nFN: {}   TP: {}\".format(tn, fp, fn, tp))\n",
    "  print('\\nAccuracy : %f' % accuracy)\n",
    "  print('Precision: %f' % precision)\n",
    "  print('Recall   : %f' % recall)\n",
    "  print('F1 score : %f' % f1)\n",
    "\n",
    "def evaluate2(model, X_train, y_train, X_test, y_test):\n",
    "  scores = cross_val_score(model, X_train, y_train, cv=10, scoring='roc_auc')\n",
    "  print(classification_report(y_test, rfc_predict))\n",
    "  print(\"Mean AUC: \", scores.mean())"
   ]
  },
  {
   "cell_type": "code",
   "execution_count": null,
   "id": "453e385a",
   "metadata": {},
   "outputs": [],
   "source": [
    "#Randomforest classification process\n",
    "from sklearn.ensemble import RandomForestClassifier\n",
    "\n",
    "clf = RandomForestClassifier()\n",
    "clf.fit(X_train,y_train)"
   ]
  },
  {
   "cell_type": "code",
   "execution_count": null,
   "id": "a63883ea",
   "metadata": {},
   "outputs": [],
   "source": [
    "#evaluate the module\n",
    "evaluate(clf, X_test, y_test)"
   ]
  },
  {
   "cell_type": "code",
   "execution_count": null,
   "id": "a4ebd79b",
   "metadata": {},
   "outputs": [],
   "source": [
    "#Hyper parameter tunning\n",
    "from sklearn.model_selection import RandomizedSearchCV\n",
    "\n",
    "n_estimators = [200, 400, 600, 800, 1000, 1200, 1400, 1600, 1800, 2000]\n",
    "max_features = ['auto', 'sqrt']\n",
    "max_depth = [1,2,3,4,5,6,7,8,9]\n",
    "\n",
    "random_grid = {\n",
    "    'n_estimators': n_estimators,\n",
    "    'max_features': max_features,\n",
    "    'max_depth': max_depth\n",
    "}\n",
    "rfc = RandomForestClassifier()\n",
    "rand_search = RandomizedSearchCV(estimator = rfc, \n",
    "                                 param_distributions = random_grid, \n",
    "                                 n_iter = 100, \n",
    "                                 cv = 3, \n",
    "                                 verbose=2, \n",
    "                                 random_state=123, \n",
    "                                 n_jobs = -1)\n",
    "rand_search.fit(X_train, y_train)\n",
    "\n",
    "print(rand_search.best_params_)"
   ]
  },
  {
   "cell_type": "code",
   "execution_count": null,
   "id": "815e7f85",
   "metadata": {},
   "outputs": [],
   "source": [
    "#check the best module\n",
    "rfc = RandomForestClassifier(n_estimators= 200, max_features='auto', max_depth= 4)"
   ]
  },
  {
   "cell_type": "code",
   "execution_count": null,
   "id": "22c6c858",
   "metadata": {},
   "outputs": [],
   "source": [
    "#module fitting\n",
    "rfc.fit(X_train,y_train)"
   ]
  },
  {
   "cell_type": "code",
   "execution_count": null,
   "id": "4f962dad",
   "metadata": {},
   "outputs": [],
   "source": [
    "#evaluate the module\n",
    "evaluate(rfc, X_test, y_test)"
   ]
  },
  {
   "cell_type": "code",
   "execution_count": null,
   "id": "99975882",
   "metadata": {},
   "outputs": [],
   "source": [
    "#above rfc outputs\n",
    "#TN: 24   FP: 5\n",
    "#FN: 4   TP: 28\n",
    "\n",
    "#Accuracy : 0.852459\n",
    "#Precision: 0.848485\n",
    "#Recall   : 0.875000\n",
    "#F1 score : 0.861538"
   ]
  },
  {
   "cell_type": "code",
   "execution_count": null,
   "id": "b0f08df9",
   "metadata": {},
   "outputs": [],
   "source": [
    "#recheck the module with differnet parameters\n",
    "rfc2 = RandomForestClassifier(n_estimators= 600, max_features='sqrt', max_depth= 3)"
   ]
  },
  {
   "cell_type": "code",
   "execution_count": null,
   "id": "909b0c85",
   "metadata": {},
   "outputs": [],
   "source": [
    "#re-modeule fitting\n",
    "rfc2.fit(X_train,y_train)"
   ]
  },
  {
   "cell_type": "code",
   "execution_count": null,
   "id": "e68c490a",
   "metadata": {},
   "outputs": [],
   "source": [
    "#evaluate the module\n",
    "#Best Module is Random forest classification\n",
    "evaluate(rfc2, X_test, y_test)"
   ]
  },
  {
   "cell_type": "code",
   "execution_count": null,
   "id": "bb928826",
   "metadata": {},
   "outputs": [],
   "source": [
    "#above rfc2 outputs\n",
    "#TN: 24   FP: 5\n",
    "#FN: 3   TP: 29\n",
    "\n",
    "#Accuracy : 0.868852\n",
    "#Precision: 0.852941\n",
    "#Recall   : 0.906250\n",
    "#F1 score : 0.878788"
   ]
  },
  {
   "cell_type": "code",
   "execution_count": null,
   "id": "1c92a975",
   "metadata": {},
   "outputs": [],
   "source": [
    "#XGBoost classification process\n",
    "import xgboost as xgb"
   ]
  },
  {
   "cell_type": "code",
   "execution_count": null,
   "id": "b8b8c201",
   "metadata": {},
   "outputs": [],
   "source": [
    "model = xgb.XGBClassifier()"
   ]
  },
  {
   "cell_type": "code",
   "execution_count": null,
   "id": "a61a4981",
   "metadata": {},
   "outputs": [],
   "source": [
    "modelxgb = xgb.XGBClassifier(n_estimators= 100, max_depth= 6)"
   ]
  },
  {
   "cell_type": "code",
   "execution_count": null,
   "id": "1bbbe795",
   "metadata": {},
   "outputs": [],
   "source": [
    "modelxgb.fit(X_train,y_train)"
   ]
  },
  {
   "cell_type": "code",
   "execution_count": null,
   "id": "e9c44c1f",
   "metadata": {},
   "outputs": [],
   "source": [
    "def evaluateBooster(model, X_test, y_test):\n",
    "\n",
    "  y_pred = model.predict(X_test)\n",
    "  pred = [round(value) for value in y_pred]\n",
    "  accuracy = accuracy_score(y_test, pred)\n",
    "  precision = precision_score(y_test, pred)\n",
    "  recall = recall_score(y_test, pred)\n",
    "  f1 = f1_score(y_test, pred)\n",
    "  tn, fp, fn, tp = confusion_matrix(y_test, pred).ravel()\n",
    "\n",
    "  print(\"TN: {}   FP: {}\\nFN: {}   TP: {}\".format(tn, fp, fn, tp))\n",
    "  print('\\nAccuracy : %f' % accuracy)\n",
    "  print('Precision: %f' % precision)\n",
    "  print('Recall   : %f' % recall)\n",
    "  print('F1 score : %f' % f1)"
   ]
  },
  {
   "cell_type": "code",
   "execution_count": null,
   "id": "572987d5",
   "metadata": {},
   "outputs": [],
   "source": [
    "#evaluate the module\n",
    "evaluateBooster(modelxgb, X_test, y_test)"
   ]
  },
  {
   "cell_type": "code",
   "execution_count": null,
   "id": "ed968de4",
   "metadata": {},
   "outputs": [],
   "source": [
    "#Light-boost classification process\n",
    "import lightgbm as lgb"
   ]
  },
  {
   "cell_type": "code",
   "execution_count": null,
   "id": "841f326f",
   "metadata": {},
   "outputs": [],
   "source": [
    "modellg = lgb.LGBMClassifier()"
   ]
  },
  {
   "cell_type": "code",
   "execution_count": null,
   "id": "cd2d389e",
   "metadata": {},
   "outputs": [],
   "source": [
    "modellg.fit(X_train,y_train)"
   ]
  },
  {
   "cell_type": "code",
   "execution_count": null,
   "id": "34bb1013",
   "metadata": {},
   "outputs": [],
   "source": [
    "evaluateBooster(modellg, X_test, y_test)"
   ]
  },
  {
   "cell_type": "code",
   "execution_count": null,
   "id": "d62b6d7f",
   "metadata": {},
   "outputs": [],
   "source": [
    "df.corr()"
   ]
  },
  {
   "cell_type": "code",
   "execution_count": null,
   "id": "709ffebd",
   "metadata": {},
   "outputs": [],
   "source": [
    "#feature sellection process\n",
    "from sklearn.feature_selection import SelectKBest\n",
    "from sklearn.feature_selection import f_classif"
   ]
  },
  {
   "cell_type": "code",
   "execution_count": null,
   "id": "fc5ead68",
   "metadata": {},
   "outputs": [],
   "source": [
    "selector = SelectKBest(score_func=f_classif, k=5)"
   ]
  },
  {
   "cell_type": "code",
   "execution_count": null,
   "id": "8040c687",
   "metadata": {},
   "outputs": [],
   "source": [
    "fitted_selector = selector.fit(features, label)"
   ]
  },
  {
   "cell_type": "code",
   "execution_count": null,
   "id": "b41dbf64",
   "metadata": {},
   "outputs": [],
   "source": [
    "fitted_selector.scores_"
   ]
  },
  {
   "cell_type": "code",
   "execution_count": null,
   "id": "17ce2465",
   "metadata": {},
   "outputs": [],
   "source": [
    "cols[8],cols[2], cols[9], cols[7], cols[11]"
   ]
  },
  {
   "cell_type": "code",
   "execution_count": null,
   "id": "e3de37bd",
   "metadata": {},
   "outputs": [],
   "source": [
    "selected_features = features[[cols[8],cols[2], cols[9], cols[7], cols[11]]]"
   ]
  },
  {
   "cell_type": "code",
   "execution_count": null,
   "id": "59854c5c",
   "metadata": {},
   "outputs": [],
   "source": [
    "X_train, X_test, y_train, y_test = train_test_split(selected_features, label, test_size=0.33, random_state=123)"
   ]
  },
  {
   "cell_type": "code",
   "execution_count": null,
   "id": "2abf8520",
   "metadata": {},
   "outputs": [],
   "source": [
    "#After feature sellection random forest classification\n",
    "fsrfc = RandomForestClassifier(n_estimators= 200, max_features='auto', max_depth= 4)"
   ]
  },
  {
   "cell_type": "code",
   "execution_count": null,
   "id": "4977d3bf",
   "metadata": {},
   "outputs": [],
   "source": [
    "fsrfc.fit(X_train,y_train)"
   ]
  },
  {
   "cell_type": "code",
   "execution_count": null,
   "id": "5d8fc4ce",
   "metadata": {},
   "outputs": [],
   "source": [
    "evaluate(fsrfc, X_test, y_test)"
   ]
  },
  {
   "cell_type": "code",
   "execution_count": null,
   "id": "36a7f859",
   "metadata": {},
   "outputs": [],
   "source": [
    "#After feature sellection XGBoost classification\n",
    "fsmodel = xgb.XGBClassifier()"
   ]
  },
  {
   "cell_type": "code",
   "execution_count": null,
   "id": "c7ef22eb",
   "metadata": {},
   "outputs": [],
   "source": [
    "fsmodelxgb = xgb.XGBClassifier(n_estimators= 100, max_depth= 6)"
   ]
  },
  {
   "cell_type": "code",
   "execution_count": null,
   "id": "9a05bf57",
   "metadata": {},
   "outputs": [],
   "source": [
    "fsmodelxgb.fit(X_train,y_train)"
   ]
  },
  {
   "cell_type": "code",
   "execution_count": null,
   "id": "e70609af",
   "metadata": {},
   "outputs": [],
   "source": [
    "#evaluate the module\n",
    "evaluateBooster(fsmodelxgb, X_test, y_test)"
   ]
  },
  {
   "cell_type": "code",
   "execution_count": null,
   "id": "8b55fac1",
   "metadata": {},
   "outputs": [],
   "source": [
    "#After feature sellection Light-boost classification process\n",
    "fsmodellg = lgb.LGBMClassifier()"
   ]
  },
  {
   "cell_type": "code",
   "execution_count": null,
   "id": "920a6273",
   "metadata": {},
   "outputs": [],
   "source": [
    "fsmodellg.fit(X_train,y_train)"
   ]
  },
  {
   "cell_type": "code",
   "execution_count": null,
   "id": "f671b620",
   "metadata": {},
   "outputs": [],
   "source": [
    "evaluateBooster(fsmodellg, X_test, y_test)"
   ]
  },
  {
   "cell_type": "code",
   "execution_count": null,
   "id": "c84ac74a",
   "metadata": {},
   "outputs": [],
   "source": [
    "#Save & Load the best module\n",
    "import pickle"
   ]
  },
  {
   "cell_type": "code",
   "execution_count": null,
   "id": "5fd6aba7",
   "metadata": {},
   "outputs": [],
   "source": [
    "#save the module\n",
    "pickle.dump(rfc2, open('D:\\ICBT\\Assignments\\Computational Intelligence\\Dataset\\BestModule', 'wb'))"
   ]
  },
  {
   "cell_type": "code",
   "execution_count": null,
   "id": "7eddf416",
   "metadata": {},
   "outputs": [],
   "source": [
    "#Load the module\n",
    "model = pickle.load(open('D:\\ICBT\\Assignments\\Computational Intelligence\\Dataset\\BestModule', 'rb'))"
   ]
  },
  {
   "cell_type": "code",
   "execution_count": null,
   "id": "2b286a22",
   "metadata": {},
   "outputs": [],
   "source": [
    "X_train, X_test, y_train, y_test = train_test_split(features, label, test_size=0.2, random_state=42)"
   ]
  },
  {
   "cell_type": "code",
   "execution_count": null,
   "id": "2f639c5c",
   "metadata": {},
   "outputs": [],
   "source": [
    "evaluate(model, X_test, y_test)"
   ]
  },
  {
   "cell_type": "code",
   "execution_count": null,
   "id": "9529d400",
   "metadata": {},
   "outputs": [],
   "source": [
    "df.head()"
   ]
  },
  {
   "cell_type": "code",
   "execution_count": null,
   "id": "86699ed7",
   "metadata": {},
   "outputs": [],
   "source": [
    "#Prediction process\n",
    "predict =[]\n",
    "for c in ['Age' , 'Sex' , 'ChestPain' , 'RestingBloodPressure' , 'Cholesterol' , 'FastingBloodSugar' , 'RestEcg' , 'MaxHeartRateAch' , 'ExcersiseInducedAngina' , 'StDepression' , 'StSlope' , 'NumMajorVessels' , 'Thalassemia']:\n",
    "  predict.append(input(\"Enter the value of \" + c))"
   ]
  },
  {
   "cell_type": "code",
   "execution_count": null,
   "id": "61a87674",
   "metadata": {},
   "outputs": [],
   "source": [
    "predict"
   ]
  },
  {
   "cell_type": "code",
   "execution_count": null,
   "id": "54969cb7",
   "metadata": {},
   "outputs": [],
   "source": [
    "predict2 =[]"
   ]
  },
  {
   "cell_type": "code",
   "execution_count": null,
   "id": "2da6b294",
   "metadata": {},
   "outputs": [],
   "source": [
    "predict2.append(predict)"
   ]
  },
  {
   "cell_type": "code",
   "execution_count": null,
   "id": "f8df495b",
   "metadata": {},
   "outputs": [],
   "source": [
    "model.predict(predict2)"
   ]
  },
  {
   "cell_type": "code",
   "execution_count": null,
   "id": "d71e833a",
   "metadata": {},
   "outputs": [],
   "source": [
    "#UI Interface intallation\n",
    "#!pip install gradio"
   ]
  },
  {
   "cell_type": "code",
   "execution_count": null,
   "id": "d95df860",
   "metadata": {},
   "outputs": [],
   "source": [
    "import gradio as gr"
   ]
  },
  {
   "cell_type": "code",
   "execution_count": null,
   "id": "ab06fdd7",
   "metadata": {},
   "outputs": [],
   "source": [
    "def predict_survival(Age, Sex, ChestPain, RestingBloodPressure, Cholesterol, FastingBloodSugar, RestEcg, MaxHeartRateAch, ExcersiseInducedAngina, StDepression, StSlope, NumMajorVessels, Thalassemia):\n",
    "    df = pd.DataFrame({'Sex': [Sex], 'Age': [Age], 'ChestPain': [ChestPain], 'RestingBloodPressure': [RestingBloodPressure], 'Cholesterol': [Cholesterol], 'FastingBloodSugar': [FastingBloodSugar], 'RestEcg': [RestEcg], \n",
    "                        'MaxHeartRateAch': [MaxHeartRateAch], 'ExcersiseInducedAngina': [ExcersiseInducedAngina], 'StDepression': [StDepression], 'StSlope': [StSlope], 'NumMajorVessels': [NumMajorVessels],'Thalassemia': [Thalassemia]})\n",
    "    \n",
    "    predi = model.predict_proba(df)[0]\n",
    "    return {'Perishes': predi[1], 'Survives': predi[0]}\n",
    "    \n",
    "Sex                    = gr.inputs.Radio([0, 1 ], label=\"Sex - Male = 1 | Female = 0\")\n",
    "Age                    = gr.inputs.Slider(minimum=0, maximum=100, default=20, label=\"Age\")\n",
    "ChestPain              = gr.inputs.Slider(minimum=0, maximum=10,  default=0, label=\"ChestPain\")\n",
    "RestingBloodPressure   = gr.inputs.Slider(minimum=0, maximum=200, default=100, label=\"Resting Blood Pressure\")\n",
    "Cholesterol            = gr.inputs.Slider(minimum=0, maximum=500, default=120, label=\"Cholesterol\")\n",
    "FastingBloodSugar      = gr.inputs.Slider(minimum=0, maximum=10,  default=0, label=\"Fasting Blood Sugar\")\n",
    "RestEcg                = gr.inputs.Slider(minimum=0, maximum=10,  default=0, label=\"Rest Ecg\") \n",
    "MaxHeartRateAch        = gr.inputs.Slider(minimum=0, maximum=200, default=100, label=\"Max Heart RateAch\")\n",
    "ExcersiseInducedAngina = gr.inputs.Slider(minimum=0, maximum=10, default=0, label=\"Excersise Induced Angina\")\n",
    "StDepression           = gr.inputs.Slider(minimum=0, maximum=2.0, default=0, label=\"St Depression\")\n",
    "StSlope                = gr.inputs.Slider(minimum=0, maximum=10, default=0, label=\"St Slope\")\n",
    "NumMajorVessels        = gr.inputs.Slider(minimum=0, maximum=10, default=0, label=\"Num Major Vessels\")\n",
    "Thalassemia            = gr.inputs.Slider(minimum=0, maximum=10, default=0, label=\"Thalassemia\")\n",
    "\n",
    "gr.Interface(predict_survival, [Age, Sex, ChestPain, RestingBloodPressure, Cholesterol, FastingBloodSugar, RestEcg, MaxHeartRateAch, ExcersiseInducedAngina, StDepression, StSlope, NumMajorVessels, Thalassemia],\n",
    "             \"label\", live=True).launch()"
   ]
  }
 ],
 "metadata": {
  "kernelspec": {
   "display_name": "Python 3 (ipykernel)",
   "language": "python",
   "name": "python3"
  },
  "language_info": {
   "codemirror_mode": {
    "name": "ipython",
    "version": 3
   },
   "file_extension": ".py",
   "mimetype": "text/x-python",
   "name": "python",
   "nbconvert_exporter": "python",
   "pygments_lexer": "ipython3",
   "version": "3.9.12"
  },
  "vscode": {
   "interpreter": {
    "hash": "aabe936fa7f3a88d976e6d8328026bfd5d657bec058954c7f48a62925f9a3f88"
   }
  }
 },
 "nbformat": 4,
 "nbformat_minor": 5
}
