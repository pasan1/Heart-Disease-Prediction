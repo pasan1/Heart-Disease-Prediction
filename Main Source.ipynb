{
 "cells": [
  {
   "cell_type": "code",
   "execution_count": 1,
   "id": "e80f4e65",
   "metadata": {},
   "outputs": [],
   "source": [
    "import pandas as pd\n",
    "import numpy as np"
   ]
  },
  {
   "cell_type": "code",
   "execution_count": 2,
   "id": "1c9c717b",
   "metadata": {},
   "outputs": [],
   "source": [
    "cols=['Age' , 'Sex' , 'ChestPain' , 'RestingBloodPressure' , 'Cholesterol' , 'FastingBloodSugar' , 'RestEcg' , 'MaxHeartRateAch' , 'ExcersiseInducedAngina' , 'StDepression' , 'StSlope' , 'NumMajorVessels' , 'Thalassemia' , 'Target']"
   ]
  },
  {
   "cell_type": "code",
   "execution_count": 3,
   "id": "e831a3ac",
   "metadata": {},
   "outputs": [],
   "source": [
    "#load the dataset\n",
    "df = pd.read_csv('D:\\Python\\Dataset\\heart.csv', skiprows=[0], names=cols)"
   ]
  },
  {
   "cell_type": "code",
   "execution_count": 4,
   "id": "af3d866d",
   "metadata": {},
   "outputs": [
    {
     "data": {
      "text/html": [
       "<div>\n",
       "<style scoped>\n",
       "    .dataframe tbody tr th:only-of-type {\n",
       "        vertical-align: middle;\n",
       "    }\n",
       "\n",
       "    .dataframe tbody tr th {\n",
       "        vertical-align: top;\n",
       "    }\n",
       "\n",
       "    .dataframe thead th {\n",
       "        text-align: right;\n",
       "    }\n",
       "</style>\n",
       "<table border=\"1\" class=\"dataframe\">\n",
       "  <thead>\n",
       "    <tr style=\"text-align: right;\">\n",
       "      <th></th>\n",
       "      <th>Age</th>\n",
       "      <th>Sex</th>\n",
       "      <th>ChestPain</th>\n",
       "      <th>RestingBloodPressure</th>\n",
       "      <th>Cholesterol</th>\n",
       "      <th>FastingBloodSugar</th>\n",
       "      <th>RestEcg</th>\n",
       "      <th>MaxHeartRateAch</th>\n",
       "      <th>ExcersiseInducedAngina</th>\n",
       "      <th>StDepression</th>\n",
       "      <th>StSlope</th>\n",
       "      <th>NumMajorVessels</th>\n",
       "      <th>Thalassemia</th>\n",
       "      <th>Target</th>\n",
       "    </tr>\n",
       "  </thead>\n",
       "  <tbody>\n",
       "    <tr>\n",
       "      <th>0</th>\n",
       "      <td>63</td>\n",
       "      <td>1</td>\n",
       "      <td>3</td>\n",
       "      <td>145</td>\n",
       "      <td>233</td>\n",
       "      <td>1</td>\n",
       "      <td>0</td>\n",
       "      <td>150</td>\n",
       "      <td>0</td>\n",
       "      <td>2.3</td>\n",
       "      <td>0</td>\n",
       "      <td>0</td>\n",
       "      <td>1</td>\n",
       "      <td>1</td>\n",
       "    </tr>\n",
       "    <tr>\n",
       "      <th>1</th>\n",
       "      <td>37</td>\n",
       "      <td>1</td>\n",
       "      <td>2</td>\n",
       "      <td>130</td>\n",
       "      <td>250</td>\n",
       "      <td>0</td>\n",
       "      <td>1</td>\n",
       "      <td>187</td>\n",
       "      <td>0</td>\n",
       "      <td>3.5</td>\n",
       "      <td>0</td>\n",
       "      <td>0</td>\n",
       "      <td>2</td>\n",
       "      <td>1</td>\n",
       "    </tr>\n",
       "    <tr>\n",
       "      <th>2</th>\n",
       "      <td>41</td>\n",
       "      <td>0</td>\n",
       "      <td>1</td>\n",
       "      <td>130</td>\n",
       "      <td>204</td>\n",
       "      <td>0</td>\n",
       "      <td>0</td>\n",
       "      <td>172</td>\n",
       "      <td>0</td>\n",
       "      <td>1.4</td>\n",
       "      <td>2</td>\n",
       "      <td>0</td>\n",
       "      <td>2</td>\n",
       "      <td>1</td>\n",
       "    </tr>\n",
       "    <tr>\n",
       "      <th>3</th>\n",
       "      <td>56</td>\n",
       "      <td>1</td>\n",
       "      <td>1</td>\n",
       "      <td>120</td>\n",
       "      <td>236</td>\n",
       "      <td>0</td>\n",
       "      <td>1</td>\n",
       "      <td>178</td>\n",
       "      <td>0</td>\n",
       "      <td>0.8</td>\n",
       "      <td>2</td>\n",
       "      <td>0</td>\n",
       "      <td>2</td>\n",
       "      <td>1</td>\n",
       "    </tr>\n",
       "    <tr>\n",
       "      <th>4</th>\n",
       "      <td>57</td>\n",
       "      <td>0</td>\n",
       "      <td>0</td>\n",
       "      <td>120</td>\n",
       "      <td>354</td>\n",
       "      <td>0</td>\n",
       "      <td>1</td>\n",
       "      <td>163</td>\n",
       "      <td>1</td>\n",
       "      <td>0.6</td>\n",
       "      <td>2</td>\n",
       "      <td>0</td>\n",
       "      <td>2</td>\n",
       "      <td>1</td>\n",
       "    </tr>\n",
       "  </tbody>\n",
       "</table>\n",
       "</div>"
      ],
      "text/plain": [
       "   Age  Sex  ChestPain  RestingBloodPressure  Cholesterol  FastingBloodSugar  \\\n",
       "0   63    1          3                   145          233                  1   \n",
       "1   37    1          2                   130          250                  0   \n",
       "2   41    0          1                   130          204                  0   \n",
       "3   56    1          1                   120          236                  0   \n",
       "4   57    0          0                   120          354                  0   \n",
       "\n",
       "   RestEcg  MaxHeartRateAch  ExcersiseInducedAngina  StDepression  StSlope  \\\n",
       "0        0              150                       0           2.3        0   \n",
       "1        1              187                       0           3.5        0   \n",
       "2        0              172                       0           1.4        2   \n",
       "3        1              178                       0           0.8        2   \n",
       "4        1              163                       1           0.6        2   \n",
       "\n",
       "   NumMajorVessels  Thalassemia  Target  \n",
       "0                0            1       1  \n",
       "1                0            2       1  \n",
       "2                0            2       1  \n",
       "3                0            2       1  \n",
       "4                0            2       1  "
      ]
     },
     "execution_count": 4,
     "metadata": {},
     "output_type": "execute_result"
    }
   ],
   "source": [
    "#check the data headings\n",
    "df.head()"
   ]
  },
  {
   "cell_type": "code",
   "execution_count": 5,
   "id": "cb92f3aa",
   "metadata": {},
   "outputs": [
    {
     "data": {
      "text/plain": [
       "Age                         int64\n",
       "Sex                         int64\n",
       "ChestPain                   int64\n",
       "RestingBloodPressure        int64\n",
       "Cholesterol                 int64\n",
       "FastingBloodSugar           int64\n",
       "RestEcg                     int64\n",
       "MaxHeartRateAch             int64\n",
       "ExcersiseInducedAngina      int64\n",
       "StDepression              float64\n",
       "StSlope                     int64\n",
       "NumMajorVessels             int64\n",
       "Thalassemia                 int64\n",
       "Target                      int64\n",
       "dtype: object"
      ]
     },
     "execution_count": 5,
     "metadata": {},
     "output_type": "execute_result"
    }
   ],
   "source": [
    "df.dtypes"
   ]
  },
  {
   "cell_type": "code",
   "execution_count": 6,
   "id": "f0e74310",
   "metadata": {},
   "outputs": [
    {
     "data": {
      "text/plain": [
       "Index(['Age', 'Sex', 'ChestPain', 'RestingBloodPressure', 'Cholesterol',\n",
       "       'FastingBloodSugar', 'RestEcg', 'MaxHeartRateAch',\n",
       "       'ExcersiseInducedAngina', 'StDepression', 'StSlope', 'NumMajorVessels',\n",
       "       'Thalassemia', 'Target'],\n",
       "      dtype='object')"
      ]
     },
     "execution_count": 6,
     "metadata": {},
     "output_type": "execute_result"
    }
   ],
   "source": [
    "#check the columns\n",
    "df.columns"
   ]
  },
  {
   "cell_type": "code",
   "execution_count": 7,
   "id": "1effb405",
   "metadata": {},
   "outputs": [],
   "source": [
    "#Feature and label fitting\n",
    "features = df.drop('Target', axis=1)\n",
    "label = df['Target']"
   ]
  },
  {
   "cell_type": "code",
   "execution_count": 8,
   "id": "293703cb",
   "metadata": {},
   "outputs": [],
   "source": [
    "#data splitting\n",
    "from sklearn.model_selection import train_test_split\n",
    "X_train, X_test, y_train, y_test = train_test_split(features, label, test_size=0.2, random_state=42)"
   ]
  },
  {
   "cell_type": "code",
   "execution_count": 9,
   "id": "e300fbce",
   "metadata": {},
   "outputs": [
    {
     "data": {
      "text/plain": [
       "(242,)"
      ]
     },
     "execution_count": 9,
     "metadata": {},
     "output_type": "execute_result"
    }
   ],
   "source": [
    "#Check the raws and columns\n",
    "y_train.shape"
   ]
  },
  {
   "cell_type": "code",
   "execution_count": 10,
   "id": "a24662b5",
   "metadata": {},
   "outputs": [
    {
     "data": {
      "text/plain": [
       "(242, 13)"
      ]
     },
     "execution_count": 10,
     "metadata": {},
     "output_type": "execute_result"
    }
   ],
   "source": [
    "X_train.shape"
   ]
  },
  {
   "cell_type": "code",
   "execution_count": 11,
   "id": "7c066f9f",
   "metadata": {},
   "outputs": [
    {
     "data": {
      "text/html": [
       "<div>\n",
       "<style scoped>\n",
       "    .dataframe tbody tr th:only-of-type {\n",
       "        vertical-align: middle;\n",
       "    }\n",
       "\n",
       "    .dataframe tbody tr th {\n",
       "        vertical-align: top;\n",
       "    }\n",
       "\n",
       "    .dataframe thead th {\n",
       "        text-align: right;\n",
       "    }\n",
       "</style>\n",
       "<table border=\"1\" class=\"dataframe\">\n",
       "  <thead>\n",
       "    <tr style=\"text-align: right;\">\n",
       "      <th></th>\n",
       "      <th>Age</th>\n",
       "      <th>Sex</th>\n",
       "      <th>ChestPain</th>\n",
       "      <th>RestingBloodPressure</th>\n",
       "      <th>Cholesterol</th>\n",
       "      <th>FastingBloodSugar</th>\n",
       "      <th>RestEcg</th>\n",
       "      <th>MaxHeartRateAch</th>\n",
       "      <th>ExcersiseInducedAngina</th>\n",
       "      <th>StDepression</th>\n",
       "      <th>StSlope</th>\n",
       "      <th>NumMajorVessels</th>\n",
       "      <th>Thalassemia</th>\n",
       "    </tr>\n",
       "  </thead>\n",
       "  <tbody>\n",
       "    <tr>\n",
       "      <th>132</th>\n",
       "      <td>42</td>\n",
       "      <td>1</td>\n",
       "      <td>1</td>\n",
       "      <td>120</td>\n",
       "      <td>295</td>\n",
       "      <td>0</td>\n",
       "      <td>1</td>\n",
       "      <td>162</td>\n",
       "      <td>0</td>\n",
       "      <td>0.0</td>\n",
       "      <td>2</td>\n",
       "      <td>0</td>\n",
       "      <td>2</td>\n",
       "    </tr>\n",
       "    <tr>\n",
       "      <th>202</th>\n",
       "      <td>58</td>\n",
       "      <td>1</td>\n",
       "      <td>0</td>\n",
       "      <td>150</td>\n",
       "      <td>270</td>\n",
       "      <td>0</td>\n",
       "      <td>0</td>\n",
       "      <td>111</td>\n",
       "      <td>1</td>\n",
       "      <td>0.8</td>\n",
       "      <td>2</td>\n",
       "      <td>0</td>\n",
       "      <td>3</td>\n",
       "    </tr>\n",
       "    <tr>\n",
       "      <th>196</th>\n",
       "      <td>46</td>\n",
       "      <td>1</td>\n",
       "      <td>2</td>\n",
       "      <td>150</td>\n",
       "      <td>231</td>\n",
       "      <td>0</td>\n",
       "      <td>1</td>\n",
       "      <td>147</td>\n",
       "      <td>0</td>\n",
       "      <td>3.6</td>\n",
       "      <td>1</td>\n",
       "      <td>0</td>\n",
       "      <td>2</td>\n",
       "    </tr>\n",
       "    <tr>\n",
       "      <th>75</th>\n",
       "      <td>55</td>\n",
       "      <td>0</td>\n",
       "      <td>1</td>\n",
       "      <td>135</td>\n",
       "      <td>250</td>\n",
       "      <td>0</td>\n",
       "      <td>0</td>\n",
       "      <td>161</td>\n",
       "      <td>0</td>\n",
       "      <td>1.4</td>\n",
       "      <td>1</td>\n",
       "      <td>0</td>\n",
       "      <td>2</td>\n",
       "    </tr>\n",
       "    <tr>\n",
       "      <th>176</th>\n",
       "      <td>60</td>\n",
       "      <td>1</td>\n",
       "      <td>0</td>\n",
       "      <td>117</td>\n",
       "      <td>230</td>\n",
       "      <td>1</td>\n",
       "      <td>1</td>\n",
       "      <td>160</td>\n",
       "      <td>1</td>\n",
       "      <td>1.4</td>\n",
       "      <td>2</td>\n",
       "      <td>2</td>\n",
       "      <td>3</td>\n",
       "    </tr>\n",
       "  </tbody>\n",
       "</table>\n",
       "</div>"
      ],
      "text/plain": [
       "     Age  Sex  ChestPain  RestingBloodPressure  Cholesterol  \\\n",
       "132   42    1          1                   120          295   \n",
       "202   58    1          0                   150          270   \n",
       "196   46    1          2                   150          231   \n",
       "75    55    0          1                   135          250   \n",
       "176   60    1          0                   117          230   \n",
       "\n",
       "     FastingBloodSugar  RestEcg  MaxHeartRateAch  ExcersiseInducedAngina  \\\n",
       "132                  0        1              162                       0   \n",
       "202                  0        0              111                       1   \n",
       "196                  0        1              147                       0   \n",
       "75                   0        0              161                       0   \n",
       "176                  1        1              160                       1   \n",
       "\n",
       "     StDepression  StSlope  NumMajorVessels  Thalassemia  \n",
       "132           0.0        2                0            2  \n",
       "202           0.8        2                0            3  \n",
       "196           3.6        1                0            2  \n",
       "75            1.4        1                0            2  \n",
       "176           1.4        2                2            3  "
      ]
     },
     "execution_count": 11,
     "metadata": {},
     "output_type": "execute_result"
    }
   ],
   "source": [
    "#check the first 5 raws \n",
    "X_train[0:5]"
   ]
  },
  {
   "cell_type": "code",
   "execution_count": 12,
   "id": "f59a2948",
   "metadata": {},
   "outputs": [
    {
     "data": {
      "text/plain": [
       "0      1\n",
       "1      1\n",
       "2      1\n",
       "3      1\n",
       "4      1\n",
       "      ..\n",
       "298    0\n",
       "299    0\n",
       "300    0\n",
       "301    0\n",
       "302    0\n",
       "Name: Target, Length: 303, dtype: int64"
      ]
     },
     "execution_count": 12,
     "metadata": {},
     "output_type": "execute_result"
    }
   ],
   "source": [
    "label"
   ]
  },
  {
   "cell_type": "code",
   "execution_count": 13,
   "id": "039e9129",
   "metadata": {},
   "outputs": [
    {
     "data": {
      "text/html": [
       "<div>\n",
       "<style scoped>\n",
       "    .dataframe tbody tr th:only-of-type {\n",
       "        vertical-align: middle;\n",
       "    }\n",
       "\n",
       "    .dataframe tbody tr th {\n",
       "        vertical-align: top;\n",
       "    }\n",
       "\n",
       "    .dataframe thead th {\n",
       "        text-align: right;\n",
       "    }\n",
       "</style>\n",
       "<table border=\"1\" class=\"dataframe\">\n",
       "  <thead>\n",
       "    <tr style=\"text-align: right;\">\n",
       "      <th></th>\n",
       "      <th>Age</th>\n",
       "      <th>Sex</th>\n",
       "      <th>ChestPain</th>\n",
       "      <th>RestingBloodPressure</th>\n",
       "      <th>Cholesterol</th>\n",
       "      <th>FastingBloodSugar</th>\n",
       "      <th>RestEcg</th>\n",
       "      <th>MaxHeartRateAch</th>\n",
       "      <th>ExcersiseInducedAngina</th>\n",
       "      <th>StDepression</th>\n",
       "      <th>StSlope</th>\n",
       "      <th>NumMajorVessels</th>\n",
       "      <th>Thalassemia</th>\n",
       "    </tr>\n",
       "  </thead>\n",
       "  <tbody>\n",
       "    <tr>\n",
       "      <th>0</th>\n",
       "      <td>63</td>\n",
       "      <td>1</td>\n",
       "      <td>3</td>\n",
       "      <td>145</td>\n",
       "      <td>233</td>\n",
       "      <td>1</td>\n",
       "      <td>0</td>\n",
       "      <td>150</td>\n",
       "      <td>0</td>\n",
       "      <td>2.3</td>\n",
       "      <td>0</td>\n",
       "      <td>0</td>\n",
       "      <td>1</td>\n",
       "    </tr>\n",
       "    <tr>\n",
       "      <th>1</th>\n",
       "      <td>37</td>\n",
       "      <td>1</td>\n",
       "      <td>2</td>\n",
       "      <td>130</td>\n",
       "      <td>250</td>\n",
       "      <td>0</td>\n",
       "      <td>1</td>\n",
       "      <td>187</td>\n",
       "      <td>0</td>\n",
       "      <td>3.5</td>\n",
       "      <td>0</td>\n",
       "      <td>0</td>\n",
       "      <td>2</td>\n",
       "    </tr>\n",
       "    <tr>\n",
       "      <th>2</th>\n",
       "      <td>41</td>\n",
       "      <td>0</td>\n",
       "      <td>1</td>\n",
       "      <td>130</td>\n",
       "      <td>204</td>\n",
       "      <td>0</td>\n",
       "      <td>0</td>\n",
       "      <td>172</td>\n",
       "      <td>0</td>\n",
       "      <td>1.4</td>\n",
       "      <td>2</td>\n",
       "      <td>0</td>\n",
       "      <td>2</td>\n",
       "    </tr>\n",
       "    <tr>\n",
       "      <th>3</th>\n",
       "      <td>56</td>\n",
       "      <td>1</td>\n",
       "      <td>1</td>\n",
       "      <td>120</td>\n",
       "      <td>236</td>\n",
       "      <td>0</td>\n",
       "      <td>1</td>\n",
       "      <td>178</td>\n",
       "      <td>0</td>\n",
       "      <td>0.8</td>\n",
       "      <td>2</td>\n",
       "      <td>0</td>\n",
       "      <td>2</td>\n",
       "    </tr>\n",
       "    <tr>\n",
       "      <th>4</th>\n",
       "      <td>57</td>\n",
       "      <td>0</td>\n",
       "      <td>0</td>\n",
       "      <td>120</td>\n",
       "      <td>354</td>\n",
       "      <td>0</td>\n",
       "      <td>1</td>\n",
       "      <td>163</td>\n",
       "      <td>1</td>\n",
       "      <td>0.6</td>\n",
       "      <td>2</td>\n",
       "      <td>0</td>\n",
       "      <td>2</td>\n",
       "    </tr>\n",
       "    <tr>\n",
       "      <th>...</th>\n",
       "      <td>...</td>\n",
       "      <td>...</td>\n",
       "      <td>...</td>\n",
       "      <td>...</td>\n",
       "      <td>...</td>\n",
       "      <td>...</td>\n",
       "      <td>...</td>\n",
       "      <td>...</td>\n",
       "      <td>...</td>\n",
       "      <td>...</td>\n",
       "      <td>...</td>\n",
       "      <td>...</td>\n",
       "      <td>...</td>\n",
       "    </tr>\n",
       "    <tr>\n",
       "      <th>298</th>\n",
       "      <td>57</td>\n",
       "      <td>0</td>\n",
       "      <td>0</td>\n",
       "      <td>140</td>\n",
       "      <td>241</td>\n",
       "      <td>0</td>\n",
       "      <td>1</td>\n",
       "      <td>123</td>\n",
       "      <td>1</td>\n",
       "      <td>0.2</td>\n",
       "      <td>1</td>\n",
       "      <td>0</td>\n",
       "      <td>3</td>\n",
       "    </tr>\n",
       "    <tr>\n",
       "      <th>299</th>\n",
       "      <td>45</td>\n",
       "      <td>1</td>\n",
       "      <td>3</td>\n",
       "      <td>110</td>\n",
       "      <td>264</td>\n",
       "      <td>0</td>\n",
       "      <td>1</td>\n",
       "      <td>132</td>\n",
       "      <td>0</td>\n",
       "      <td>1.2</td>\n",
       "      <td>1</td>\n",
       "      <td>0</td>\n",
       "      <td>3</td>\n",
       "    </tr>\n",
       "    <tr>\n",
       "      <th>300</th>\n",
       "      <td>68</td>\n",
       "      <td>1</td>\n",
       "      <td>0</td>\n",
       "      <td>144</td>\n",
       "      <td>193</td>\n",
       "      <td>1</td>\n",
       "      <td>1</td>\n",
       "      <td>141</td>\n",
       "      <td>0</td>\n",
       "      <td>3.4</td>\n",
       "      <td>1</td>\n",
       "      <td>2</td>\n",
       "      <td>3</td>\n",
       "    </tr>\n",
       "    <tr>\n",
       "      <th>301</th>\n",
       "      <td>57</td>\n",
       "      <td>1</td>\n",
       "      <td>0</td>\n",
       "      <td>130</td>\n",
       "      <td>131</td>\n",
       "      <td>0</td>\n",
       "      <td>1</td>\n",
       "      <td>115</td>\n",
       "      <td>1</td>\n",
       "      <td>1.2</td>\n",
       "      <td>1</td>\n",
       "      <td>1</td>\n",
       "      <td>3</td>\n",
       "    </tr>\n",
       "    <tr>\n",
       "      <th>302</th>\n",
       "      <td>57</td>\n",
       "      <td>0</td>\n",
       "      <td>1</td>\n",
       "      <td>130</td>\n",
       "      <td>236</td>\n",
       "      <td>0</td>\n",
       "      <td>0</td>\n",
       "      <td>174</td>\n",
       "      <td>0</td>\n",
       "      <td>0.0</td>\n",
       "      <td>1</td>\n",
       "      <td>1</td>\n",
       "      <td>2</td>\n",
       "    </tr>\n",
       "  </tbody>\n",
       "</table>\n",
       "<p>303 rows × 13 columns</p>\n",
       "</div>"
      ],
      "text/plain": [
       "     Age  Sex  ChestPain  RestingBloodPressure  Cholesterol  \\\n",
       "0     63    1          3                   145          233   \n",
       "1     37    1          2                   130          250   \n",
       "2     41    0          1                   130          204   \n",
       "3     56    1          1                   120          236   \n",
       "4     57    0          0                   120          354   \n",
       "..   ...  ...        ...                   ...          ...   \n",
       "298   57    0          0                   140          241   \n",
       "299   45    1          3                   110          264   \n",
       "300   68    1          0                   144          193   \n",
       "301   57    1          0                   130          131   \n",
       "302   57    0          1                   130          236   \n",
       "\n",
       "     FastingBloodSugar  RestEcg  MaxHeartRateAch  ExcersiseInducedAngina  \\\n",
       "0                    1        0              150                       0   \n",
       "1                    0        1              187                       0   \n",
       "2                    0        0              172                       0   \n",
       "3                    0        1              178                       0   \n",
       "4                    0        1              163                       1   \n",
       "..                 ...      ...              ...                     ...   \n",
       "298                  0        1              123                       1   \n",
       "299                  0        1              132                       0   \n",
       "300                  1        1              141                       0   \n",
       "301                  0        1              115                       1   \n",
       "302                  0        0              174                       0   \n",
       "\n",
       "     StDepression  StSlope  NumMajorVessels  Thalassemia  \n",
       "0             2.3        0                0            1  \n",
       "1             3.5        0                0            2  \n",
       "2             1.4        2                0            2  \n",
       "3             0.8        2                0            2  \n",
       "4             0.6        2                0            2  \n",
       "..            ...      ...              ...          ...  \n",
       "298           0.2        1                0            3  \n",
       "299           1.2        1                0            3  \n",
       "300           3.4        1                2            3  \n",
       "301           1.2        1                1            3  \n",
       "302           0.0        1                1            2  \n",
       "\n",
       "[303 rows x 13 columns]"
      ]
     },
     "execution_count": 13,
     "metadata": {},
     "output_type": "execute_result"
    }
   ],
   "source": [
    "features"
   ]
  },
  {
   "cell_type": "code",
   "execution_count": 14,
   "id": "37d60a8d",
   "metadata": {},
   "outputs": [
    {
     "name": "stdout",
     "output_type": "stream",
     "text": [
      "<class 'pandas.core.frame.DataFrame'>\n",
      "RangeIndex: 303 entries, 0 to 302\n",
      "Data columns (total 14 columns):\n",
      " #   Column                  Non-Null Count  Dtype  \n",
      "---  ------                  --------------  -----  \n",
      " 0   Age                     303 non-null    int64  \n",
      " 1   Sex                     303 non-null    int64  \n",
      " 2   ChestPain               303 non-null    int64  \n",
      " 3   RestingBloodPressure    303 non-null    int64  \n",
      " 4   Cholesterol             303 non-null    int64  \n",
      " 5   FastingBloodSugar       303 non-null    int64  \n",
      " 6   RestEcg                 303 non-null    int64  \n",
      " 7   MaxHeartRateAch         303 non-null    int64  \n",
      " 8   ExcersiseInducedAngina  303 non-null    int64  \n",
      " 9   StDepression            303 non-null    float64\n",
      " 10  StSlope                 303 non-null    int64  \n",
      " 11  NumMajorVessels         303 non-null    int64  \n",
      " 12  Thalassemia             303 non-null    int64  \n",
      " 13  Target                  303 non-null    int64  \n",
      "dtypes: float64(1), int64(13)\n",
      "memory usage: 33.3 KB\n"
     ]
    }
   ],
   "source": [
    "#Check the null values\n",
    "df.info()"
   ]
  },
  {
   "cell_type": "code",
   "execution_count": 15,
   "id": "1ced973c",
   "metadata": {},
   "outputs": [
    {
     "name": "stdout",
     "output_type": "stream",
     "text": [
      "   Age  Sex  ChestPain  RestingBloodPressure  Cholesterol  FastingBloodSugar  \\\n",
      "0   63    1          3                   145          233                  1   \n",
      "1   37    1          2                   130          250                  0   \n",
      "2   41    0          1                   130          204                  0   \n",
      "3   56    1          1                   120          236                  0   \n",
      "4   57    0          0                   120          354                  0   \n",
      "\n",
      "   RestEcg  MaxHeartRateAch  ExcersiseInducedAngina  StDepression  StSlope  \\\n",
      "0        0              150                       0           2.3        0   \n",
      "1        1              187                       0           3.5        0   \n",
      "2        0              172                       0           1.4        2   \n",
      "3        1              178                       0           0.8        2   \n",
      "4        1              163                       1           0.6        2   \n",
      "\n",
      "   NumMajorVessels  Thalassemia  Target  \n",
      "0                0            1       1  \n",
      "1                0            2       1  \n",
      "2                0            2       1  \n",
      "3                0            2       1  \n",
      "4                0            2       1  \n"
     ]
    }
   ],
   "source": [
    "print(df.head())"
   ]
  },
  {
   "cell_type": "code",
   "execution_count": 16,
   "id": "5f8d13b1",
   "metadata": {},
   "outputs": [],
   "source": [
    "#Creating evalution methods\n",
    "from sklearn.metrics import accuracy_score\n",
    "from sklearn.metrics import precision_score\n",
    "from sklearn.metrics import recall_score\n",
    "from sklearn.metrics import f1_score\n",
    "from sklearn.metrics import cohen_kappa_score\n",
    "from sklearn.metrics import roc_auc_score\n",
    "from sklearn.metrics import confusion_matrix\n",
    "from sklearn.model_selection import cross_val_score\n",
    "from sklearn.metrics import classification_report\n",
    "\n",
    "def evaluate(model, X_test, y_test):\n",
    "  y_pred = model.predict(np.array(X_test))\n",
    "  pred = [round(value) for value in y_pred]\n",
    "\n",
    "  accuracy = accuracy_score(y_test, pred)\n",
    "  precision = precision_score(y_test, pred)\n",
    "  recall = recall_score(y_test, pred)\n",
    "  f1 = f1_score(y_test, pred)\n",
    "  tn, fp, fn, tp = confusion_matrix(y_test, pred).ravel()\n",
    "\n",
    "  print(\"TN: {}   FP: {}\\nFN: {}   TP: {}\".format(tn, fp, fn, tp))\n",
    "  print('\\nAccuracy : %f' % accuracy)\n",
    "  print('Precision: %f' % precision)\n",
    "  print('Recall   : %f' % recall)\n",
    "  print('F1 score : %f' % f1)\n",
    "\n",
    "def evaluate2(model, X_train, y_train, X_test, y_test):\n",
    "  scores = cross_val_score(model, X_train, y_train, cv=10, scoring='roc_auc')\n",
    "  print(classification_report(y_test, rfc_predict))\n",
    "  print(\"Mean AUC: \", scores.mean())"
   ]
  },
  {
   "cell_type": "code",
   "execution_count": 17,
   "id": "453e385a",
   "metadata": {},
   "outputs": [
    {
     "data": {
      "text/plain": [
       "RandomForestClassifier()"
      ]
     },
     "execution_count": 17,
     "metadata": {},
     "output_type": "execute_result"
    }
   ],
   "source": [
    "#Randomforest classification process\n",
    "from sklearn.ensemble import RandomForestClassifier\n",
    "\n",
    "clf = RandomForestClassifier()\n",
    "clf.fit(X_train,y_train)"
   ]
  },
  {
   "cell_type": "code",
   "execution_count": 18,
   "id": "a63883ea",
   "metadata": {},
   "outputs": [
    {
     "name": "stdout",
     "output_type": "stream",
     "text": [
      "TN: 24   FP: 5\n",
      "FN: 4   TP: 28\n",
      "\n",
      "Accuracy : 0.852459\n",
      "Precision: 0.848485\n",
      "Recall   : 0.875000\n",
      "F1 score : 0.861538\n"
     ]
    },
    {
     "name": "stderr",
     "output_type": "stream",
     "text": [
      "E:\\Users\\pasan\\anaconda3\\lib\\site-packages\\sklearn\\base.py:450: UserWarning: X does not have valid feature names, but RandomForestClassifier was fitted with feature names\n",
      "  warnings.warn(\n"
     ]
    }
   ],
   "source": [
    "#evaluate the module\n",
    "evaluate(clf, X_test, y_test)"
   ]
  },
  {
   "cell_type": "code",
   "execution_count": 19,
   "id": "a4ebd79b",
   "metadata": {},
   "outputs": [
    {
     "name": "stdout",
     "output_type": "stream",
     "text": [
      "Fitting 3 folds for each of 100 candidates, totalling 300 fits\n",
      "{'n_estimators': 600, 'max_features': 'auto', 'max_depth': 3}\n"
     ]
    }
   ],
   "source": [
    "#Hyper parameter tunning\n",
    "from sklearn.model_selection import RandomizedSearchCV\n",
    "\n",
    "n_estimators = [200, 400, 600, 800, 1000, 1200, 1400, 1600, 1800, 2000]\n",
    "max_features = ['auto', 'sqrt']\n",
    "max_depth = [1,2,3,4,5,6,7,8,9]\n",
    "\n",
    "random_grid = {\n",
    "    'n_estimators': n_estimators,\n",
    "    'max_features': max_features,\n",
    "    'max_depth': max_depth\n",
    "}\n",
    "rfc = RandomForestClassifier()\n",
    "rand_search = RandomizedSearchCV(estimator = rfc, \n",
    "                                 param_distributions = random_grid, \n",
    "                                 n_iter = 100, \n",
    "                                 cv = 3, \n",
    "                                 verbose=2, \n",
    "                                 random_state=123, \n",
    "                                 n_jobs = -1)\n",
    "rand_search.fit(X_train, y_train)\n",
    "\n",
    "print(rand_search.best_params_)"
   ]
  },
  {
   "cell_type": "code",
   "execution_count": 20,
   "id": "815e7f85",
   "metadata": {},
   "outputs": [],
   "source": [
    "#check the best module\n",
    "rfc = RandomForestClassifier(n_estimators= 200, max_features='auto', max_depth= 4)"
   ]
  },
  {
   "cell_type": "code",
   "execution_count": 21,
   "id": "22c6c858",
   "metadata": {},
   "outputs": [
    {
     "data": {
      "text/plain": [
       "RandomForestClassifier(max_depth=4, n_estimators=200)"
      ]
     },
     "execution_count": 21,
     "metadata": {},
     "output_type": "execute_result"
    }
   ],
   "source": [
    "#module fitting\n",
    "rfc.fit(X_train,y_train)"
   ]
  },
  {
   "cell_type": "code",
   "execution_count": 22,
   "id": "4f962dad",
   "metadata": {},
   "outputs": [
    {
     "name": "stdout",
     "output_type": "stream",
     "text": [
      "TN: 24   FP: 5\n",
      "FN: 3   TP: 29\n",
      "\n",
      "Accuracy : 0.868852\n",
      "Precision: 0.852941\n",
      "Recall   : 0.906250\n",
      "F1 score : 0.878788\n"
     ]
    },
    {
     "name": "stderr",
     "output_type": "stream",
     "text": [
      "E:\\Users\\pasan\\anaconda3\\lib\\site-packages\\sklearn\\base.py:450: UserWarning: X does not have valid feature names, but RandomForestClassifier was fitted with feature names\n",
      "  warnings.warn(\n"
     ]
    }
   ],
   "source": [
    "#evaluate the module\n",
    "evaluate(rfc, X_test, y_test)"
   ]
  },
  {
   "cell_type": "code",
   "execution_count": 23,
   "id": "99975882",
   "metadata": {},
   "outputs": [],
   "source": [
    "#above rfc outputs\n",
    "#TN: 24   FP: 5\n",
    "#FN: 4   TP: 28\n",
    "\n",
    "#Accuracy : 0.852459\n",
    "#Precision: 0.848485\n",
    "#Recall   : 0.875000\n",
    "#F1 score : 0.861538"
   ]
  },
  {
   "cell_type": "code",
   "execution_count": 24,
   "id": "b0f08df9",
   "metadata": {},
   "outputs": [],
   "source": [
    "#recheck the module with differnet parameters\n",
    "rfc2 = RandomForestClassifier(n_estimators= 600, max_features='sqrt', max_depth= 3)"
   ]
  },
  {
   "cell_type": "code",
   "execution_count": 25,
   "id": "909b0c85",
   "metadata": {},
   "outputs": [
    {
     "data": {
      "text/plain": [
       "RandomForestClassifier(max_depth=3, max_features='sqrt', n_estimators=600)"
      ]
     },
     "execution_count": 25,
     "metadata": {},
     "output_type": "execute_result"
    }
   ],
   "source": [
    "#re-modeule fitting\n",
    "rfc2.fit(X_train,y_train)"
   ]
  },
  {
   "cell_type": "code",
   "execution_count": 26,
   "id": "e68c490a",
   "metadata": {},
   "outputs": [
    {
     "name": "stdout",
     "output_type": "stream",
     "text": [
      "TN: 24   FP: 5\n",
      "FN: 3   TP: 29\n",
      "\n",
      "Accuracy : 0.868852\n",
      "Precision: 0.852941\n",
      "Recall   : 0.906250\n",
      "F1 score : 0.878788\n"
     ]
    },
    {
     "name": "stderr",
     "output_type": "stream",
     "text": [
      "E:\\Users\\pasan\\anaconda3\\lib\\site-packages\\sklearn\\base.py:450: UserWarning: X does not have valid feature names, but RandomForestClassifier was fitted with feature names\n",
      "  warnings.warn(\n"
     ]
    }
   ],
   "source": [
    "#evaluate the module\n",
    "#Best Module is Random forest classification\n",
    "evaluate(rfc2, X_test, y_test)"
   ]
  },
  {
   "cell_type": "code",
   "execution_count": 27,
   "id": "bb928826",
   "metadata": {},
   "outputs": [],
   "source": [
    "#above rfc2 outputs\n",
    "#TN: 24   FP: 5\n",
    "#FN: 3   TP: 29\n",
    "\n",
    "#Accuracy : 0.868852\n",
    "#Precision: 0.852941\n",
    "#Recall   : 0.906250\n",
    "#F1 score : 0.878788"
   ]
  },
  {
   "cell_type": "code",
   "execution_count": 28,
   "id": "1c92a975",
   "metadata": {},
   "outputs": [
    {
     "name": "stderr",
     "output_type": "stream",
     "text": [
      "E:\\Users\\pasan\\anaconda3\\lib\\site-packages\\xgboost\\compat.py:36: FutureWarning: pandas.Int64Index is deprecated and will be removed from pandas in a future version. Use pandas.Index with the appropriate dtype instead.\n",
      "  from pandas import MultiIndex, Int64Index\n"
     ]
    }
   ],
   "source": [
    "#XGBoost classification process\n",
    "import xgboost as xgb"
   ]
  },
  {
   "cell_type": "code",
   "execution_count": 29,
   "id": "b8b8c201",
   "metadata": {},
   "outputs": [],
   "source": [
    "model = xgb.XGBClassifier()"
   ]
  },
  {
   "cell_type": "code",
   "execution_count": 30,
   "id": "a61a4981",
   "metadata": {},
   "outputs": [],
   "source": [
    "modelxgb = xgb.XGBClassifier(n_estimators= 100, max_depth= 6)"
   ]
  },
  {
   "cell_type": "code",
   "execution_count": 31,
   "id": "1bbbe795",
   "metadata": {},
   "outputs": [
    {
     "name": "stdout",
     "output_type": "stream",
     "text": [
      "[10:56:19] WARNING: ..\\src\\learner.cc:1115: Starting in XGBoost 1.3.0, the default evaluation metric used with the objective 'binary:logistic' was changed from 'error' to 'logloss'. Explicitly set eval_metric if you'd like to restore the old behavior.\n"
     ]
    },
    {
     "name": "stderr",
     "output_type": "stream",
     "text": [
      "E:\\Users\\pasan\\anaconda3\\lib\\site-packages\\xgboost\\sklearn.py:1224: UserWarning: The use of label encoder in XGBClassifier is deprecated and will be removed in a future release. To remove this warning, do the following: 1) Pass option use_label_encoder=False when constructing XGBClassifier object; and 2) Encode your labels (y) as integers starting with 0, i.e. 0, 1, 2, ..., [num_class - 1].\n",
      "  warnings.warn(label_encoder_deprecation_msg, UserWarning)\n",
      "E:\\Users\\pasan\\anaconda3\\lib\\site-packages\\xgboost\\data.py:250: FutureWarning: pandas.Int64Index is deprecated and will be removed from pandas in a future version. Use pandas.Index with the appropriate dtype instead.\n",
      "  elif isinstance(data.columns, (pd.Int64Index, pd.RangeIndex)):\n"
     ]
    },
    {
     "data": {
      "text/plain": [
       "XGBClassifier(base_score=0.5, booster='gbtree', colsample_bylevel=1,\n",
       "              colsample_bynode=1, colsample_bytree=1, enable_categorical=False,\n",
       "              gamma=0, gpu_id=-1, importance_type=None,\n",
       "              interaction_constraints='', learning_rate=0.300000012,\n",
       "              max_delta_step=0, max_depth=6, min_child_weight=1, missing=nan,\n",
       "              monotone_constraints='()', n_estimators=100, n_jobs=8,\n",
       "              num_parallel_tree=1, predictor='auto', random_state=0,\n",
       "              reg_alpha=0, reg_lambda=1, scale_pos_weight=1, subsample=1,\n",
       "              tree_method='exact', validate_parameters=1, verbosity=None)"
      ]
     },
     "execution_count": 31,
     "metadata": {},
     "output_type": "execute_result"
    }
   ],
   "source": [
    "modelxgb.fit(X_train,y_train)"
   ]
  },
  {
   "cell_type": "code",
   "execution_count": 32,
   "id": "e9c44c1f",
   "metadata": {},
   "outputs": [],
   "source": [
    "def evaluateBooster(model, X_test, y_test):\n",
    "\n",
    "  y_pred = model.predict(X_test)\n",
    "  pred = [round(value) for value in y_pred]\n",
    "  accuracy = accuracy_score(y_test, pred)\n",
    "  precision = precision_score(y_test, pred)\n",
    "  recall = recall_score(y_test, pred)\n",
    "  f1 = f1_score(y_test, pred)\n",
    "  tn, fp, fn, tp = confusion_matrix(y_test, pred).ravel()\n",
    "\n",
    "  print(\"TN: {}   FP: {}\\nFN: {}   TP: {}\".format(tn, fp, fn, tp))\n",
    "  print('\\nAccuracy : %f' % accuracy)\n",
    "  print('Precision: %f' % precision)\n",
    "  print('Recall   : %f' % recall)\n",
    "  print('F1 score : %f' % f1)"
   ]
  },
  {
   "cell_type": "code",
   "execution_count": 33,
   "id": "572987d5",
   "metadata": {},
   "outputs": [
    {
     "name": "stdout",
     "output_type": "stream",
     "text": [
      "TN: 25   FP: 4\n",
      "FN: 7   TP: 25\n",
      "\n",
      "Accuracy : 0.819672\n",
      "Precision: 0.862069\n",
      "Recall   : 0.781250\n",
      "F1 score : 0.819672\n"
     ]
    }
   ],
   "source": [
    "#evaluate the module\n",
    "evaluateBooster(modelxgb, X_test, y_test)"
   ]
  },
  {
   "cell_type": "code",
   "execution_count": 34,
   "id": "ed968de4",
   "metadata": {},
   "outputs": [],
   "source": [
    "#Light-boost classification process\n",
    "import lightgbm as lgb"
   ]
  },
  {
   "cell_type": "code",
   "execution_count": 35,
   "id": "841f326f",
   "metadata": {},
   "outputs": [],
   "source": [
    "modellg = lgb.LGBMClassifier()"
   ]
  },
  {
   "cell_type": "code",
   "execution_count": 36,
   "id": "cd2d389e",
   "metadata": {},
   "outputs": [
    {
     "data": {
      "text/plain": [
       "LGBMClassifier()"
      ]
     },
     "execution_count": 36,
     "metadata": {},
     "output_type": "execute_result"
    }
   ],
   "source": [
    "modellg.fit(X_train,y_train)"
   ]
  },
  {
   "cell_type": "code",
   "execution_count": 37,
   "id": "34bb1013",
   "metadata": {},
   "outputs": [
    {
     "name": "stdout",
     "output_type": "stream",
     "text": [
      "TN: 25   FP: 4\n",
      "FN: 6   TP: 26\n",
      "\n",
      "Accuracy : 0.836066\n",
      "Precision: 0.866667\n",
      "Recall   : 0.812500\n",
      "F1 score : 0.838710\n"
     ]
    }
   ],
   "source": [
    "evaluateBooster(modellg, X_test, y_test)"
   ]
  },
  {
   "cell_type": "code",
   "execution_count": 38,
   "id": "d62b6d7f",
   "metadata": {},
   "outputs": [
    {
     "data": {
      "text/html": [
       "<div>\n",
       "<style scoped>\n",
       "    .dataframe tbody tr th:only-of-type {\n",
       "        vertical-align: middle;\n",
       "    }\n",
       "\n",
       "    .dataframe tbody tr th {\n",
       "        vertical-align: top;\n",
       "    }\n",
       "\n",
       "    .dataframe thead th {\n",
       "        text-align: right;\n",
       "    }\n",
       "</style>\n",
       "<table border=\"1\" class=\"dataframe\">\n",
       "  <thead>\n",
       "    <tr style=\"text-align: right;\">\n",
       "      <th></th>\n",
       "      <th>Age</th>\n",
       "      <th>Sex</th>\n",
       "      <th>ChestPain</th>\n",
       "      <th>RestingBloodPressure</th>\n",
       "      <th>Cholesterol</th>\n",
       "      <th>FastingBloodSugar</th>\n",
       "      <th>RestEcg</th>\n",
       "      <th>MaxHeartRateAch</th>\n",
       "      <th>ExcersiseInducedAngina</th>\n",
       "      <th>StDepression</th>\n",
       "      <th>StSlope</th>\n",
       "      <th>NumMajorVessels</th>\n",
       "      <th>Thalassemia</th>\n",
       "      <th>Target</th>\n",
       "    </tr>\n",
       "  </thead>\n",
       "  <tbody>\n",
       "    <tr>\n",
       "      <th>Age</th>\n",
       "      <td>1.000000</td>\n",
       "      <td>-0.098447</td>\n",
       "      <td>-0.068653</td>\n",
       "      <td>0.279351</td>\n",
       "      <td>0.213678</td>\n",
       "      <td>0.121308</td>\n",
       "      <td>-0.116211</td>\n",
       "      <td>-0.398522</td>\n",
       "      <td>0.096801</td>\n",
       "      <td>0.210013</td>\n",
       "      <td>-0.168814</td>\n",
       "      <td>0.276326</td>\n",
       "      <td>0.068001</td>\n",
       "      <td>-0.225439</td>\n",
       "    </tr>\n",
       "    <tr>\n",
       "      <th>Sex</th>\n",
       "      <td>-0.098447</td>\n",
       "      <td>1.000000</td>\n",
       "      <td>-0.049353</td>\n",
       "      <td>-0.056769</td>\n",
       "      <td>-0.197912</td>\n",
       "      <td>0.045032</td>\n",
       "      <td>-0.058196</td>\n",
       "      <td>-0.044020</td>\n",
       "      <td>0.141664</td>\n",
       "      <td>0.096093</td>\n",
       "      <td>-0.030711</td>\n",
       "      <td>0.118261</td>\n",
       "      <td>0.210041</td>\n",
       "      <td>-0.280937</td>\n",
       "    </tr>\n",
       "    <tr>\n",
       "      <th>ChestPain</th>\n",
       "      <td>-0.068653</td>\n",
       "      <td>-0.049353</td>\n",
       "      <td>1.000000</td>\n",
       "      <td>0.047608</td>\n",
       "      <td>-0.076904</td>\n",
       "      <td>0.094444</td>\n",
       "      <td>0.044421</td>\n",
       "      <td>0.295762</td>\n",
       "      <td>-0.394280</td>\n",
       "      <td>-0.149230</td>\n",
       "      <td>0.119717</td>\n",
       "      <td>-0.181053</td>\n",
       "      <td>-0.161736</td>\n",
       "      <td>0.433798</td>\n",
       "    </tr>\n",
       "    <tr>\n",
       "      <th>RestingBloodPressure</th>\n",
       "      <td>0.279351</td>\n",
       "      <td>-0.056769</td>\n",
       "      <td>0.047608</td>\n",
       "      <td>1.000000</td>\n",
       "      <td>0.123174</td>\n",
       "      <td>0.177531</td>\n",
       "      <td>-0.114103</td>\n",
       "      <td>-0.046698</td>\n",
       "      <td>0.067616</td>\n",
       "      <td>0.193216</td>\n",
       "      <td>-0.121475</td>\n",
       "      <td>0.101389</td>\n",
       "      <td>0.062210</td>\n",
       "      <td>-0.144931</td>\n",
       "    </tr>\n",
       "    <tr>\n",
       "      <th>Cholesterol</th>\n",
       "      <td>0.213678</td>\n",
       "      <td>-0.197912</td>\n",
       "      <td>-0.076904</td>\n",
       "      <td>0.123174</td>\n",
       "      <td>1.000000</td>\n",
       "      <td>0.013294</td>\n",
       "      <td>-0.151040</td>\n",
       "      <td>-0.009940</td>\n",
       "      <td>0.067023</td>\n",
       "      <td>0.053952</td>\n",
       "      <td>-0.004038</td>\n",
       "      <td>0.070511</td>\n",
       "      <td>0.098803</td>\n",
       "      <td>-0.085239</td>\n",
       "    </tr>\n",
       "    <tr>\n",
       "      <th>FastingBloodSugar</th>\n",
       "      <td>0.121308</td>\n",
       "      <td>0.045032</td>\n",
       "      <td>0.094444</td>\n",
       "      <td>0.177531</td>\n",
       "      <td>0.013294</td>\n",
       "      <td>1.000000</td>\n",
       "      <td>-0.084189</td>\n",
       "      <td>-0.008567</td>\n",
       "      <td>0.025665</td>\n",
       "      <td>0.005747</td>\n",
       "      <td>-0.059894</td>\n",
       "      <td>0.137979</td>\n",
       "      <td>-0.032019</td>\n",
       "      <td>-0.028046</td>\n",
       "    </tr>\n",
       "    <tr>\n",
       "      <th>RestEcg</th>\n",
       "      <td>-0.116211</td>\n",
       "      <td>-0.058196</td>\n",
       "      <td>0.044421</td>\n",
       "      <td>-0.114103</td>\n",
       "      <td>-0.151040</td>\n",
       "      <td>-0.084189</td>\n",
       "      <td>1.000000</td>\n",
       "      <td>0.044123</td>\n",
       "      <td>-0.070733</td>\n",
       "      <td>-0.058770</td>\n",
       "      <td>0.093045</td>\n",
       "      <td>-0.072042</td>\n",
       "      <td>-0.011981</td>\n",
       "      <td>0.137230</td>\n",
       "    </tr>\n",
       "    <tr>\n",
       "      <th>MaxHeartRateAch</th>\n",
       "      <td>-0.398522</td>\n",
       "      <td>-0.044020</td>\n",
       "      <td>0.295762</td>\n",
       "      <td>-0.046698</td>\n",
       "      <td>-0.009940</td>\n",
       "      <td>-0.008567</td>\n",
       "      <td>0.044123</td>\n",
       "      <td>1.000000</td>\n",
       "      <td>-0.378812</td>\n",
       "      <td>-0.344187</td>\n",
       "      <td>0.386784</td>\n",
       "      <td>-0.213177</td>\n",
       "      <td>-0.096439</td>\n",
       "      <td>0.421741</td>\n",
       "    </tr>\n",
       "    <tr>\n",
       "      <th>ExcersiseInducedAngina</th>\n",
       "      <td>0.096801</td>\n",
       "      <td>0.141664</td>\n",
       "      <td>-0.394280</td>\n",
       "      <td>0.067616</td>\n",
       "      <td>0.067023</td>\n",
       "      <td>0.025665</td>\n",
       "      <td>-0.070733</td>\n",
       "      <td>-0.378812</td>\n",
       "      <td>1.000000</td>\n",
       "      <td>0.288223</td>\n",
       "      <td>-0.257748</td>\n",
       "      <td>0.115739</td>\n",
       "      <td>0.206754</td>\n",
       "      <td>-0.436757</td>\n",
       "    </tr>\n",
       "    <tr>\n",
       "      <th>StDepression</th>\n",
       "      <td>0.210013</td>\n",
       "      <td>0.096093</td>\n",
       "      <td>-0.149230</td>\n",
       "      <td>0.193216</td>\n",
       "      <td>0.053952</td>\n",
       "      <td>0.005747</td>\n",
       "      <td>-0.058770</td>\n",
       "      <td>-0.344187</td>\n",
       "      <td>0.288223</td>\n",
       "      <td>1.000000</td>\n",
       "      <td>-0.577537</td>\n",
       "      <td>0.222682</td>\n",
       "      <td>0.210244</td>\n",
       "      <td>-0.430696</td>\n",
       "    </tr>\n",
       "    <tr>\n",
       "      <th>StSlope</th>\n",
       "      <td>-0.168814</td>\n",
       "      <td>-0.030711</td>\n",
       "      <td>0.119717</td>\n",
       "      <td>-0.121475</td>\n",
       "      <td>-0.004038</td>\n",
       "      <td>-0.059894</td>\n",
       "      <td>0.093045</td>\n",
       "      <td>0.386784</td>\n",
       "      <td>-0.257748</td>\n",
       "      <td>-0.577537</td>\n",
       "      <td>1.000000</td>\n",
       "      <td>-0.080155</td>\n",
       "      <td>-0.104764</td>\n",
       "      <td>0.345877</td>\n",
       "    </tr>\n",
       "    <tr>\n",
       "      <th>NumMajorVessels</th>\n",
       "      <td>0.276326</td>\n",
       "      <td>0.118261</td>\n",
       "      <td>-0.181053</td>\n",
       "      <td>0.101389</td>\n",
       "      <td>0.070511</td>\n",
       "      <td>0.137979</td>\n",
       "      <td>-0.072042</td>\n",
       "      <td>-0.213177</td>\n",
       "      <td>0.115739</td>\n",
       "      <td>0.222682</td>\n",
       "      <td>-0.080155</td>\n",
       "      <td>1.000000</td>\n",
       "      <td>0.151832</td>\n",
       "      <td>-0.391724</td>\n",
       "    </tr>\n",
       "    <tr>\n",
       "      <th>Thalassemia</th>\n",
       "      <td>0.068001</td>\n",
       "      <td>0.210041</td>\n",
       "      <td>-0.161736</td>\n",
       "      <td>0.062210</td>\n",
       "      <td>0.098803</td>\n",
       "      <td>-0.032019</td>\n",
       "      <td>-0.011981</td>\n",
       "      <td>-0.096439</td>\n",
       "      <td>0.206754</td>\n",
       "      <td>0.210244</td>\n",
       "      <td>-0.104764</td>\n",
       "      <td>0.151832</td>\n",
       "      <td>1.000000</td>\n",
       "      <td>-0.344029</td>\n",
       "    </tr>\n",
       "    <tr>\n",
       "      <th>Target</th>\n",
       "      <td>-0.225439</td>\n",
       "      <td>-0.280937</td>\n",
       "      <td>0.433798</td>\n",
       "      <td>-0.144931</td>\n",
       "      <td>-0.085239</td>\n",
       "      <td>-0.028046</td>\n",
       "      <td>0.137230</td>\n",
       "      <td>0.421741</td>\n",
       "      <td>-0.436757</td>\n",
       "      <td>-0.430696</td>\n",
       "      <td>0.345877</td>\n",
       "      <td>-0.391724</td>\n",
       "      <td>-0.344029</td>\n",
       "      <td>1.000000</td>\n",
       "    </tr>\n",
       "  </tbody>\n",
       "</table>\n",
       "</div>"
      ],
      "text/plain": [
       "                             Age       Sex  ChestPain  RestingBloodPressure  \\\n",
       "Age                     1.000000 -0.098447  -0.068653              0.279351   \n",
       "Sex                    -0.098447  1.000000  -0.049353             -0.056769   \n",
       "ChestPain              -0.068653 -0.049353   1.000000              0.047608   \n",
       "RestingBloodPressure    0.279351 -0.056769   0.047608              1.000000   \n",
       "Cholesterol             0.213678 -0.197912  -0.076904              0.123174   \n",
       "FastingBloodSugar       0.121308  0.045032   0.094444              0.177531   \n",
       "RestEcg                -0.116211 -0.058196   0.044421             -0.114103   \n",
       "MaxHeartRateAch        -0.398522 -0.044020   0.295762             -0.046698   \n",
       "ExcersiseInducedAngina  0.096801  0.141664  -0.394280              0.067616   \n",
       "StDepression            0.210013  0.096093  -0.149230              0.193216   \n",
       "StSlope                -0.168814 -0.030711   0.119717             -0.121475   \n",
       "NumMajorVessels         0.276326  0.118261  -0.181053              0.101389   \n",
       "Thalassemia             0.068001  0.210041  -0.161736              0.062210   \n",
       "Target                 -0.225439 -0.280937   0.433798             -0.144931   \n",
       "\n",
       "                        Cholesterol  FastingBloodSugar   RestEcg  \\\n",
       "Age                        0.213678           0.121308 -0.116211   \n",
       "Sex                       -0.197912           0.045032 -0.058196   \n",
       "ChestPain                 -0.076904           0.094444  0.044421   \n",
       "RestingBloodPressure       0.123174           0.177531 -0.114103   \n",
       "Cholesterol                1.000000           0.013294 -0.151040   \n",
       "FastingBloodSugar          0.013294           1.000000 -0.084189   \n",
       "RestEcg                   -0.151040          -0.084189  1.000000   \n",
       "MaxHeartRateAch           -0.009940          -0.008567  0.044123   \n",
       "ExcersiseInducedAngina     0.067023           0.025665 -0.070733   \n",
       "StDepression               0.053952           0.005747 -0.058770   \n",
       "StSlope                   -0.004038          -0.059894  0.093045   \n",
       "NumMajorVessels            0.070511           0.137979 -0.072042   \n",
       "Thalassemia                0.098803          -0.032019 -0.011981   \n",
       "Target                    -0.085239          -0.028046  0.137230   \n",
       "\n",
       "                        MaxHeartRateAch  ExcersiseInducedAngina  StDepression  \\\n",
       "Age                           -0.398522                0.096801      0.210013   \n",
       "Sex                           -0.044020                0.141664      0.096093   \n",
       "ChestPain                      0.295762               -0.394280     -0.149230   \n",
       "RestingBloodPressure          -0.046698                0.067616      0.193216   \n",
       "Cholesterol                   -0.009940                0.067023      0.053952   \n",
       "FastingBloodSugar             -0.008567                0.025665      0.005747   \n",
       "RestEcg                        0.044123               -0.070733     -0.058770   \n",
       "MaxHeartRateAch                1.000000               -0.378812     -0.344187   \n",
       "ExcersiseInducedAngina        -0.378812                1.000000      0.288223   \n",
       "StDepression                  -0.344187                0.288223      1.000000   \n",
       "StSlope                        0.386784               -0.257748     -0.577537   \n",
       "NumMajorVessels               -0.213177                0.115739      0.222682   \n",
       "Thalassemia                   -0.096439                0.206754      0.210244   \n",
       "Target                         0.421741               -0.436757     -0.430696   \n",
       "\n",
       "                         StSlope  NumMajorVessels  Thalassemia    Target  \n",
       "Age                    -0.168814         0.276326     0.068001 -0.225439  \n",
       "Sex                    -0.030711         0.118261     0.210041 -0.280937  \n",
       "ChestPain               0.119717        -0.181053    -0.161736  0.433798  \n",
       "RestingBloodPressure   -0.121475         0.101389     0.062210 -0.144931  \n",
       "Cholesterol            -0.004038         0.070511     0.098803 -0.085239  \n",
       "FastingBloodSugar      -0.059894         0.137979    -0.032019 -0.028046  \n",
       "RestEcg                 0.093045        -0.072042    -0.011981  0.137230  \n",
       "MaxHeartRateAch         0.386784        -0.213177    -0.096439  0.421741  \n",
       "ExcersiseInducedAngina -0.257748         0.115739     0.206754 -0.436757  \n",
       "StDepression           -0.577537         0.222682     0.210244 -0.430696  \n",
       "StSlope                 1.000000        -0.080155    -0.104764  0.345877  \n",
       "NumMajorVessels        -0.080155         1.000000     0.151832 -0.391724  \n",
       "Thalassemia            -0.104764         0.151832     1.000000 -0.344029  \n",
       "Target                  0.345877        -0.391724    -0.344029  1.000000  "
      ]
     },
     "execution_count": 38,
     "metadata": {},
     "output_type": "execute_result"
    }
   ],
   "source": [
    "df.corr()"
   ]
  },
  {
   "cell_type": "code",
   "execution_count": 39,
   "id": "709ffebd",
   "metadata": {},
   "outputs": [],
   "source": [
    "#feature sellection process\n",
    "from sklearn.feature_selection import SelectKBest\n",
    "from sklearn.feature_selection import f_classif"
   ]
  },
  {
   "cell_type": "code",
   "execution_count": 40,
   "id": "fc5ead68",
   "metadata": {},
   "outputs": [],
   "source": [
    "selector = SelectKBest(score_func=f_classif, k=5)"
   ]
  },
  {
   "cell_type": "code",
   "execution_count": 41,
   "id": "8040c687",
   "metadata": {},
   "outputs": [],
   "source": [
    "fitted_selector = selector.fit(features, label)"
   ]
  },
  {
   "cell_type": "code",
   "execution_count": 42,
   "id": "b41dbf64",
   "metadata": {},
   "outputs": [
    {
     "data": {
      "text/plain": [
       "array([16.11669982, 25.79219115, 69.77227149,  6.45816867,  2.20298345,\n",
       "        0.23694234,  5.77720891, 65.1201044 , 70.95243822, 68.55143941,\n",
       "       40.90207063, 54.5598338 , 40.40769615])"
      ]
     },
     "execution_count": 42,
     "metadata": {},
     "output_type": "execute_result"
    }
   ],
   "source": [
    "fitted_selector.scores_"
   ]
  },
  {
   "cell_type": "code",
   "execution_count": 43,
   "id": "17ce2465",
   "metadata": {},
   "outputs": [
    {
     "data": {
      "text/plain": [
       "('ExcersiseInducedAngina',\n",
       " 'ChestPain',\n",
       " 'StDepression',\n",
       " 'MaxHeartRateAch',\n",
       " 'NumMajorVessels')"
      ]
     },
     "execution_count": 43,
     "metadata": {},
     "output_type": "execute_result"
    }
   ],
   "source": [
    "cols[8],cols[2], cols[9], cols[7], cols[11]"
   ]
  },
  {
   "cell_type": "code",
   "execution_count": 44,
   "id": "e3de37bd",
   "metadata": {},
   "outputs": [],
   "source": [
    "selected_features = features[[cols[8],cols[2], cols[9], cols[7], cols[11]]]"
   ]
  },
  {
   "cell_type": "code",
   "execution_count": 45,
   "id": "59854c5c",
   "metadata": {},
   "outputs": [],
   "source": [
    "X_train, X_test, y_train, y_test = train_test_split(selected_features, label, test_size=0.33, random_state=123)"
   ]
  },
  {
   "cell_type": "code",
   "execution_count": 46,
   "id": "2abf8520",
   "metadata": {},
   "outputs": [],
   "source": [
    "#After feature sellection random forest classification\n",
    "fsrfc = RandomForestClassifier(n_estimators= 200, max_features='auto', max_depth= 4)"
   ]
  },
  {
   "cell_type": "code",
   "execution_count": 47,
   "id": "4977d3bf",
   "metadata": {},
   "outputs": [
    {
     "data": {
      "text/plain": [
       "RandomForestClassifier(max_depth=4, n_estimators=200)"
      ]
     },
     "execution_count": 47,
     "metadata": {},
     "output_type": "execute_result"
    }
   ],
   "source": [
    "fsrfc.fit(X_train,y_train)"
   ]
  },
  {
   "cell_type": "code",
   "execution_count": 48,
   "id": "5d8fc4ce",
   "metadata": {},
   "outputs": [
    {
     "name": "stdout",
     "output_type": "stream",
     "text": [
      "TN: 37   FP: 14\n",
      "FN: 9   TP: 40\n",
      "\n",
      "Accuracy : 0.770000\n",
      "Precision: 0.740741\n",
      "Recall   : 0.816327\n",
      "F1 score : 0.776699\n"
     ]
    },
    {
     "name": "stderr",
     "output_type": "stream",
     "text": [
      "E:\\Users\\pasan\\anaconda3\\lib\\site-packages\\sklearn\\base.py:450: UserWarning: X does not have valid feature names, but RandomForestClassifier was fitted with feature names\n",
      "  warnings.warn(\n"
     ]
    }
   ],
   "source": [
    "evaluate(fsrfc, X_test, y_test)"
   ]
  },
  {
   "cell_type": "code",
   "execution_count": 49,
   "id": "36a7f859",
   "metadata": {},
   "outputs": [],
   "source": [
    "#After feature sellection XGBoost classification\n",
    "fsmodel = xgb.XGBClassifier()"
   ]
  },
  {
   "cell_type": "code",
   "execution_count": 50,
   "id": "c7ef22eb",
   "metadata": {},
   "outputs": [],
   "source": [
    "fsmodelxgb = xgb.XGBClassifier(n_estimators= 100, max_depth= 6)"
   ]
  },
  {
   "cell_type": "code",
   "execution_count": 51,
   "id": "9a05bf57",
   "metadata": {},
   "outputs": [
    {
     "name": "stdout",
     "output_type": "stream",
     "text": [
      "[10:56:38] WARNING: ..\\src\\learner.cc:1115: Starting in XGBoost 1.3.0, the default evaluation metric used with the objective 'binary:logistic' was changed from 'error' to 'logloss'. Explicitly set eval_metric if you'd like to restore the old behavior.\n"
     ]
    },
    {
     "name": "stderr",
     "output_type": "stream",
     "text": [
      "E:\\Users\\pasan\\anaconda3\\lib\\site-packages\\xgboost\\sklearn.py:1224: UserWarning: The use of label encoder in XGBClassifier is deprecated and will be removed in a future release. To remove this warning, do the following: 1) Pass option use_label_encoder=False when constructing XGBClassifier object; and 2) Encode your labels (y) as integers starting with 0, i.e. 0, 1, 2, ..., [num_class - 1].\n",
      "  warnings.warn(label_encoder_deprecation_msg, UserWarning)\n",
      "E:\\Users\\pasan\\anaconda3\\lib\\site-packages\\xgboost\\data.py:250: FutureWarning: pandas.Int64Index is deprecated and will be removed from pandas in a future version. Use pandas.Index with the appropriate dtype instead.\n",
      "  elif isinstance(data.columns, (pd.Int64Index, pd.RangeIndex)):\n"
     ]
    },
    {
     "data": {
      "text/plain": [
       "XGBClassifier(base_score=0.5, booster='gbtree', colsample_bylevel=1,\n",
       "              colsample_bynode=1, colsample_bytree=1, enable_categorical=False,\n",
       "              gamma=0, gpu_id=-1, importance_type=None,\n",
       "              interaction_constraints='', learning_rate=0.300000012,\n",
       "              max_delta_step=0, max_depth=6, min_child_weight=1, missing=nan,\n",
       "              monotone_constraints='()', n_estimators=100, n_jobs=8,\n",
       "              num_parallel_tree=1, predictor='auto', random_state=0,\n",
       "              reg_alpha=0, reg_lambda=1, scale_pos_weight=1, subsample=1,\n",
       "              tree_method='exact', validate_parameters=1, verbosity=None)"
      ]
     },
     "execution_count": 51,
     "metadata": {},
     "output_type": "execute_result"
    }
   ],
   "source": [
    "fsmodelxgb.fit(X_train,y_train)"
   ]
  },
  {
   "cell_type": "code",
   "execution_count": 52,
   "id": "e70609af",
   "metadata": {},
   "outputs": [
    {
     "name": "stdout",
     "output_type": "stream",
     "text": [
      "TN: 35   FP: 16\n",
      "FN: 10   TP: 39\n",
      "\n",
      "Accuracy : 0.740000\n",
      "Precision: 0.709091\n",
      "Recall   : 0.795918\n",
      "F1 score : 0.750000\n"
     ]
    }
   ],
   "source": [
    "#evaluate the module\n",
    "evaluateBooster(fsmodelxgb, X_test, y_test)"
   ]
  },
  {
   "cell_type": "code",
   "execution_count": 53,
   "id": "8b55fac1",
   "metadata": {},
   "outputs": [],
   "source": [
    "#After feature sellection Light-boost classification process\n",
    "fsmodellg = lgb.LGBMClassifier()"
   ]
  },
  {
   "cell_type": "code",
   "execution_count": 54,
   "id": "920a6273",
   "metadata": {},
   "outputs": [
    {
     "data": {
      "text/plain": [
       "LGBMClassifier()"
      ]
     },
     "execution_count": 54,
     "metadata": {},
     "output_type": "execute_result"
    }
   ],
   "source": [
    "fsmodellg.fit(X_train,y_train)"
   ]
  },
  {
   "cell_type": "code",
   "execution_count": 55,
   "id": "f671b620",
   "metadata": {},
   "outputs": [
    {
     "name": "stdout",
     "output_type": "stream",
     "text": [
      "TN: 35   FP: 16\n",
      "FN: 11   TP: 38\n",
      "\n",
      "Accuracy : 0.730000\n",
      "Precision: 0.703704\n",
      "Recall   : 0.775510\n",
      "F1 score : 0.737864\n"
     ]
    }
   ],
   "source": [
    "evaluateBooster(fsmodellg, X_test, y_test)"
   ]
  },
  {
   "cell_type": "code",
   "execution_count": 56,
   "id": "c84ac74a",
   "metadata": {},
   "outputs": [],
   "source": [
    "#Save & Load the best module\n",
    "import pickle"
   ]
  },
  {
   "cell_type": "code",
   "execution_count": 57,
   "id": "5fd6aba7",
   "metadata": {},
   "outputs": [],
   "source": [
    "#save the module\n",
    "pickle.dump(rfc2, open('D:\\Python\\Pasan_Abeysekara_1087\\Dataset\\BestModule', 'wb'))"
   ]
  },
  {
   "cell_type": "code",
   "execution_count": 58,
   "id": "7eddf416",
   "metadata": {},
   "outputs": [],
   "source": [
    "#Load the module\n",
    "model = pickle.load(open('D:\\Python\\Pasan_Abeysekara_1087\\Dataset\\BestModule', 'rb'))"
   ]
  },
  {
   "cell_type": "code",
   "execution_count": 59,
   "id": "2b286a22",
   "metadata": {},
   "outputs": [],
   "source": [
    "X_train, X_test, y_train, y_test = train_test_split(features, label, test_size=0.2, random_state=42)"
   ]
  },
  {
   "cell_type": "code",
   "execution_count": 60,
   "id": "2f639c5c",
   "metadata": {},
   "outputs": [
    {
     "name": "stdout",
     "output_type": "stream",
     "text": [
      "TN: 24   FP: 5\n",
      "FN: 3   TP: 29\n",
      "\n",
      "Accuracy : 0.868852\n",
      "Precision: 0.852941\n",
      "Recall   : 0.906250\n",
      "F1 score : 0.878788\n"
     ]
    },
    {
     "name": "stderr",
     "output_type": "stream",
     "text": [
      "E:\\Users\\pasan\\anaconda3\\lib\\site-packages\\sklearn\\base.py:450: UserWarning: X does not have valid feature names, but RandomForestClassifier was fitted with feature names\n",
      "  warnings.warn(\n"
     ]
    }
   ],
   "source": [
    "evaluate(model, X_test, y_test)"
   ]
  },
  {
   "cell_type": "code",
   "execution_count": 61,
   "id": "9529d400",
   "metadata": {},
   "outputs": [
    {
     "data": {
      "text/html": [
       "<div>\n",
       "<style scoped>\n",
       "    .dataframe tbody tr th:only-of-type {\n",
       "        vertical-align: middle;\n",
       "    }\n",
       "\n",
       "    .dataframe tbody tr th {\n",
       "        vertical-align: top;\n",
       "    }\n",
       "\n",
       "    .dataframe thead th {\n",
       "        text-align: right;\n",
       "    }\n",
       "</style>\n",
       "<table border=\"1\" class=\"dataframe\">\n",
       "  <thead>\n",
       "    <tr style=\"text-align: right;\">\n",
       "      <th></th>\n",
       "      <th>Age</th>\n",
       "      <th>Sex</th>\n",
       "      <th>ChestPain</th>\n",
       "      <th>RestingBloodPressure</th>\n",
       "      <th>Cholesterol</th>\n",
       "      <th>FastingBloodSugar</th>\n",
       "      <th>RestEcg</th>\n",
       "      <th>MaxHeartRateAch</th>\n",
       "      <th>ExcersiseInducedAngina</th>\n",
       "      <th>StDepression</th>\n",
       "      <th>StSlope</th>\n",
       "      <th>NumMajorVessels</th>\n",
       "      <th>Thalassemia</th>\n",
       "      <th>Target</th>\n",
       "    </tr>\n",
       "  </thead>\n",
       "  <tbody>\n",
       "    <tr>\n",
       "      <th>0</th>\n",
       "      <td>63</td>\n",
       "      <td>1</td>\n",
       "      <td>3</td>\n",
       "      <td>145</td>\n",
       "      <td>233</td>\n",
       "      <td>1</td>\n",
       "      <td>0</td>\n",
       "      <td>150</td>\n",
       "      <td>0</td>\n",
       "      <td>2.3</td>\n",
       "      <td>0</td>\n",
       "      <td>0</td>\n",
       "      <td>1</td>\n",
       "      <td>1</td>\n",
       "    </tr>\n",
       "    <tr>\n",
       "      <th>1</th>\n",
       "      <td>37</td>\n",
       "      <td>1</td>\n",
       "      <td>2</td>\n",
       "      <td>130</td>\n",
       "      <td>250</td>\n",
       "      <td>0</td>\n",
       "      <td>1</td>\n",
       "      <td>187</td>\n",
       "      <td>0</td>\n",
       "      <td>3.5</td>\n",
       "      <td>0</td>\n",
       "      <td>0</td>\n",
       "      <td>2</td>\n",
       "      <td>1</td>\n",
       "    </tr>\n",
       "    <tr>\n",
       "      <th>2</th>\n",
       "      <td>41</td>\n",
       "      <td>0</td>\n",
       "      <td>1</td>\n",
       "      <td>130</td>\n",
       "      <td>204</td>\n",
       "      <td>0</td>\n",
       "      <td>0</td>\n",
       "      <td>172</td>\n",
       "      <td>0</td>\n",
       "      <td>1.4</td>\n",
       "      <td>2</td>\n",
       "      <td>0</td>\n",
       "      <td>2</td>\n",
       "      <td>1</td>\n",
       "    </tr>\n",
       "    <tr>\n",
       "      <th>3</th>\n",
       "      <td>56</td>\n",
       "      <td>1</td>\n",
       "      <td>1</td>\n",
       "      <td>120</td>\n",
       "      <td>236</td>\n",
       "      <td>0</td>\n",
       "      <td>1</td>\n",
       "      <td>178</td>\n",
       "      <td>0</td>\n",
       "      <td>0.8</td>\n",
       "      <td>2</td>\n",
       "      <td>0</td>\n",
       "      <td>2</td>\n",
       "      <td>1</td>\n",
       "    </tr>\n",
       "    <tr>\n",
       "      <th>4</th>\n",
       "      <td>57</td>\n",
       "      <td>0</td>\n",
       "      <td>0</td>\n",
       "      <td>120</td>\n",
       "      <td>354</td>\n",
       "      <td>0</td>\n",
       "      <td>1</td>\n",
       "      <td>163</td>\n",
       "      <td>1</td>\n",
       "      <td>0.6</td>\n",
       "      <td>2</td>\n",
       "      <td>0</td>\n",
       "      <td>2</td>\n",
       "      <td>1</td>\n",
       "    </tr>\n",
       "  </tbody>\n",
       "</table>\n",
       "</div>"
      ],
      "text/plain": [
       "   Age  Sex  ChestPain  RestingBloodPressure  Cholesterol  FastingBloodSugar  \\\n",
       "0   63    1          3                   145          233                  1   \n",
       "1   37    1          2                   130          250                  0   \n",
       "2   41    0          1                   130          204                  0   \n",
       "3   56    1          1                   120          236                  0   \n",
       "4   57    0          0                   120          354                  0   \n",
       "\n",
       "   RestEcg  MaxHeartRateAch  ExcersiseInducedAngina  StDepression  StSlope  \\\n",
       "0        0              150                       0           2.3        0   \n",
       "1        1              187                       0           3.5        0   \n",
       "2        0              172                       0           1.4        2   \n",
       "3        1              178                       0           0.8        2   \n",
       "4        1              163                       1           0.6        2   \n",
       "\n",
       "   NumMajorVessels  Thalassemia  Target  \n",
       "0                0            1       1  \n",
       "1                0            2       1  \n",
       "2                0            2       1  \n",
       "3                0            2       1  \n",
       "4                0            2       1  "
      ]
     },
     "execution_count": 61,
     "metadata": {},
     "output_type": "execute_result"
    }
   ],
   "source": [
    "df.head()"
   ]
  },
  {
   "cell_type": "code",
   "execution_count": 62,
   "id": "86699ed7",
   "metadata": {},
   "outputs": [
    {
     "name": "stdout",
     "output_type": "stream",
     "text": [
      "Enter the value of Age23\n",
      "Enter the value of Sex1\n",
      "Enter the value of ChestPain41\n",
      "Enter the value of RestingBloodPressure54\n",
      "Enter the value of Cholesterol48\n",
      "Enter the value of FastingBloodSugar95\n",
      "Enter the value of RestEcg75\n",
      "Enter the value of MaxHeartRateAch47\n",
      "Enter the value of ExcersiseInducedAngina68\n",
      "Enter the value of StDepression42\n",
      "Enter the value of StSlope20\n",
      "Enter the value of NumMajorVessels47\n",
      "Enter the value of Thalassemia7\n"
     ]
    }
   ],
   "source": [
    "#Prediction process\n",
    "predict =[]\n",
    "for c in ['Age' , 'Sex' , 'ChestPain' , 'RestingBloodPressure' , 'Cholesterol' , 'FastingBloodSugar' , 'RestEcg' , 'MaxHeartRateAch' , 'ExcersiseInducedAngina' , 'StDepression' , 'StSlope' , 'NumMajorVessels' , 'Thalassemia']:\n",
    "  predict.append(input(\"Enter the value of \" + c))"
   ]
  },
  {
   "cell_type": "code",
   "execution_count": 63,
   "id": "61a87674",
   "metadata": {},
   "outputs": [
    {
     "data": {
      "text/plain": [
       "['23', '1', '41', '54', '48', '95', '75', '47', '68', '42', '20', '47', '7']"
      ]
     },
     "execution_count": 63,
     "metadata": {},
     "output_type": "execute_result"
    }
   ],
   "source": [
    "predict"
   ]
  },
  {
   "cell_type": "code",
   "execution_count": 64,
   "id": "54969cb7",
   "metadata": {},
   "outputs": [],
   "source": [
    "predict2 =[]"
   ]
  },
  {
   "cell_type": "code",
   "execution_count": 65,
   "id": "2da6b294",
   "metadata": {},
   "outputs": [],
   "source": [
    "predict2.append(predict)"
   ]
  },
  {
   "cell_type": "code",
   "execution_count": 66,
   "id": "f8df495b",
   "metadata": {},
   "outputs": [
    {
     "name": "stderr",
     "output_type": "stream",
     "text": [
      "E:\\Users\\pasan\\anaconda3\\lib\\site-packages\\sklearn\\base.py:450: UserWarning: X does not have valid feature names, but RandomForestClassifier was fitted with feature names\n",
      "  warnings.warn(\n"
     ]
    },
    {
     "data": {
      "text/plain": [
       "array([0], dtype=int64)"
      ]
     },
     "execution_count": 66,
     "metadata": {},
     "output_type": "execute_result"
    }
   ],
   "source": [
    "model.predict(predict2)"
   ]
  },
  {
   "cell_type": "code",
   "execution_count": 67,
   "id": "d71e833a",
   "metadata": {},
   "outputs": [],
   "source": [
    "#UI Interface intallation\n",
    "#!pip install gradio"
   ]
  },
  {
   "cell_type": "code",
   "execution_count": 69,
   "id": "d95df860",
   "metadata": {},
   "outputs": [],
   "source": [
    "import gradio as gr"
   ]
  },
  {
   "cell_type": "code",
   "execution_count": null,
   "id": "ab06fdd7",
   "metadata": {},
   "outputs": [],
   "source": [
    "def predict_survival(Age, Sex, ChestPain, RestingBloodPressure, Cholesterol, FastingBloodSugar, RestEcg, MaxHeartRateAch, ExcersiseInducedAngina, StDepression, StSlope, NumMajorVessels, Thalassemia):\n",
    "    df = pd.DataFrame({'Sex': [Sex], 'Age': [Age], 'ChestPain': [ChestPain], 'RestingBloodPressure': [RestingBloodPressure], 'Cholesterol': [Cholesterol], 'FastingBloodSugar': [FastingBloodSugar], 'RestEcg': [RestEcg], \n",
    "                        'MaxHeartRateAch': [MaxHeartRateAch], 'ExcersiseInducedAngina': [ExcersiseInducedAngina], 'StDepression': [StDepression], 'StSlope': [StSlope], 'NumMajorVessels': [NumMajorVessels],'Thalassemia': [Thalassemia]})\n",
    "    \n",
    "    predi = model.predict_proba(df)[0]\n",
    "    return {'Perishes': predi[1], 'Survives': predi[0]}\n",
    "    \n",
    "Sex                    = gr.inputs.Radio([0, 1 ], label=\"Sex - Male = 1 | Female = 0\")\n",
    "Age                    = gr.inputs.Slider(minimum=0, maximum=100, default=20, label=\"Age\")\n",
    "ChestPain              = gr.inputs.Slider(minimum=0, maximum=10,  default=0, label=\"ChestPain\")\n",
    "RestingBloodPressure   = gr.inputs.Slider(minimum=0, maximum=200, default=100, label=\"Resting Blood Pressure\")\n",
    "Cholesterol            = gr.inputs.Slider(minimum=0, maximum=500, default=120, label=\"Cholesterol\")\n",
    "FastingBloodSugar      = gr.inputs.Slider(minimum=0, maximum=10,  default=0, label=\"Fasting Blood Sugar\")\n",
    "RestEcg                = gr.inputs.Slider(minimum=0, maximum=10,  default=0, label=\"Rest Ecg\") \n",
    "MaxHeartRateAch        = gr.inputs.Slider(minimum=0, maximum=200, default=100, label=\"Max Heart RateAch\")\n",
    "ExcersiseInducedAngina = gr.inputs.Slider(minimum=0, maximum=10, default=0, label=\"Excersise Induced Angina\")\n",
    "StDepression           = gr.inputs.Slider(minimum=0, maximum=2.0, default=0, label=\"St Depression\")\n",
    "StSlope                = gr.inputs.Slider(minimum=0, maximum=10, default=0, label=\"St Slope\")\n",
    "NumMajorVessels        = gr.inputs.Slider(minimum=0, maximum=10, default=0, label=\"Num Major Vessels\")\n",
    "Thalassemia            = gr.inputs.Slider(minimum=0, maximum=10, default=0, label=\"Thalassemia\")\n",
    "\n",
    "gr.Interface(predict_survival, [Age, Sex, ChestPain, RestingBloodPressure, Cholesterol, FastingBloodSugar, RestEcg, MaxHeartRateAch, ExcersiseInducedAngina, StDepression, StSlope, NumMajorVessels, Thalassemia],\n",
    "             \"label\", live=True).launch()"
   ]
  }
 ],
 "metadata": {
  "kernelspec": {
   "display_name": "Python 3 (ipykernel)",
   "language": "python",
   "name": "python3"
  },
  "language_info": {
   "codemirror_mode": {
    "name": "ipython",
    "version": 3
   },
   "file_extension": ".py",
   "mimetype": "text/x-python",
   "name": "python",
   "nbconvert_exporter": "python",
   "pygments_lexer": "ipython3",
   "version": "3.10.4"
  },
  "vscode": {
   "interpreter": {
    "hash": "aabe936fa7f3a88d976e6d8328026bfd5d657bec058954c7f48a62925f9a3f88"
   }
  }
 },
 "nbformat": 4,
 "nbformat_minor": 5
}
